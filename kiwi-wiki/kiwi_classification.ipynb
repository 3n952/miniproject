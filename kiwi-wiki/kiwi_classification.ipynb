{
  "nbformat": 4,
  "nbformat_minor": 0,
  "metadata": {
    "colab": {
      "provenance": []
    },
    "kernelspec": {
      "name": "python3",
      "display_name": "Python 3"
    },
    "language_info": {
      "name": "python"
    }
  },
  "cells": [
    {
      "cell_type": "code",
      "execution_count": null,
      "metadata": {
        "id": "mr-u_BSJX1cc"
      },
      "outputs": [],
      "source": [
        "from keras.models import load_model\n",
        "from PIL import Image, ImageOps #Install pillow instead of PIL\n",
        "import numpy as np\n",
        "\n",
        "# 과학적 표기법 억제\n",
        "np.set_printoptions(suppress=True)\n",
        "\n",
        "# 모델 불러오기\n",
        "model = load_model('모델 파일 경로', compile=False)\n",
        "\n",
        "# 라벨값 불러오기\n",
        "class_names = open('라벨값 텍스트 파일 경로', 'r').readlines()\n",
        "\n"
      ]
    },
    {
      "cell_type": "code",
      "source": [
        "#케라스 모델 입력값에 맞게 초기화\n",
        "data = np.ndarray(shape=(1, 224, 224, 3), dtype=np.float32)\n",
        "\n",
        "# 이미지 로드\n",
        "image = Image.open('이미지 파일 경로').convert('RGB')\n",
        "\n",
        "#224*225 사이즈로 resize\n",
        "#center cropping\n",
        "size = (224, 224)\n",
        "image = ImageOps.fit(image, size, Image.LANCZOS)\n",
        "\n",
        "#넘파이 배열 변환\n",
        "image_array = np.asarray(image)\n",
        "\n",
        "# 이미지 normalization\n",
        "normalized_image_array = (image_array.astype(np.float32) / 127.0) - 1\n",
        "\n",
        "# 입력데이터\n",
        "data[0] = normalized_image_array\n",
        "\n",
        "# teachable machine이 만든 모델로 예측\n",
        "prediction = model.predict(data)\n",
        "index = np.argmax(prediction)\n",
        "class_name = class_names[index]\n",
        "confidence_score = prediction[0][index]\n",
        "\n",
        "print('증상:', class_name, end='')\n",
        "print('확률:', confidence_score)"
      ],
      "metadata": {
        "colab": {
          "base_uri": "https://localhost:8080/"
        },
        "id": "PDsqzXWVY6iW",
        "outputId": "2a062ac3-c090-4705-a02a-8646ce322109"
      },
      "execution_count": null,
      "outputs": [
        {
          "output_type": "stream",
          "name": "stdout",
          "text": [
            "1/1 [==============================] - 0s 41ms/step\n",
            "증상: 3 잎_점무늬병\n",
            "확률: 0.97386545\n"
          ]
        }
      ]
    }
  ]
}