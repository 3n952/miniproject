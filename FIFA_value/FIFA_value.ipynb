{
  "nbformat": 4,
  "nbformat_minor": 0,
  "metadata": {
    "colab": {
      "provenance": []
    },
    "kernelspec": {
      "name": "python3",
      "display_name": "Python 3"
    },
    "language_info": {
      "name": "python"
    }
  },
  "cells": [
    {
      "cell_type": "code",
      "execution_count": null,
      "metadata": {
        "colab": {
          "base_uri": "https://localhost:8080/",
          "height": 144
        },
        "id": "Yf-nd0pIlJLk",
        "outputId": "3021349b-536e-41a6-ed1b-610ecf7aead4"
      },
      "outputs": [
        {
          "output_type": "display_data",
          "data": {
            "text/plain": [
              "<IPython.core.display.HTML object>"
            ],
            "text/html": [
              "\n",
              "     <input type=\"file\" id=\"files-49d065ac-267c-4ada-98eb-fbb5bb874e32\" name=\"files[]\" multiple disabled\n",
              "        style=\"border:none\" />\n",
              "     <output id=\"result-49d065ac-267c-4ada-98eb-fbb5bb874e32\">\n",
              "      Upload widget is only available when the cell has been executed in the\n",
              "      current browser session. Please rerun this cell to enable.\n",
              "      </output>\n",
              "      <script>// Copyright 2017 Google LLC\n",
              "//\n",
              "// Licensed under the Apache License, Version 2.0 (the \"License\");\n",
              "// you may not use this file except in compliance with the License.\n",
              "// You may obtain a copy of the License at\n",
              "//\n",
              "//      http://www.apache.org/licenses/LICENSE-2.0\n",
              "//\n",
              "// Unless required by applicable law or agreed to in writing, software\n",
              "// distributed under the License is distributed on an \"AS IS\" BASIS,\n",
              "// WITHOUT WARRANTIES OR CONDITIONS OF ANY KIND, either express or implied.\n",
              "// See the License for the specific language governing permissions and\n",
              "// limitations under the License.\n",
              "\n",
              "/**\n",
              " * @fileoverview Helpers for google.colab Python module.\n",
              " */\n",
              "(function(scope) {\n",
              "function span(text, styleAttributes = {}) {\n",
              "  const element = document.createElement('span');\n",
              "  element.textContent = text;\n",
              "  for (const key of Object.keys(styleAttributes)) {\n",
              "    element.style[key] = styleAttributes[key];\n",
              "  }\n",
              "  return element;\n",
              "}\n",
              "\n",
              "// Max number of bytes which will be uploaded at a time.\n",
              "const MAX_PAYLOAD_SIZE = 100 * 1024;\n",
              "\n",
              "function _uploadFiles(inputId, outputId) {\n",
              "  const steps = uploadFilesStep(inputId, outputId);\n",
              "  const outputElement = document.getElementById(outputId);\n",
              "  // Cache steps on the outputElement to make it available for the next call\n",
              "  // to uploadFilesContinue from Python.\n",
              "  outputElement.steps = steps;\n",
              "\n",
              "  return _uploadFilesContinue(outputId);\n",
              "}\n",
              "\n",
              "// This is roughly an async generator (not supported in the browser yet),\n",
              "// where there are multiple asynchronous steps and the Python side is going\n",
              "// to poll for completion of each step.\n",
              "// This uses a Promise to block the python side on completion of each step,\n",
              "// then passes the result of the previous step as the input to the next step.\n",
              "function _uploadFilesContinue(outputId) {\n",
              "  const outputElement = document.getElementById(outputId);\n",
              "  const steps = outputElement.steps;\n",
              "\n",
              "  const next = steps.next(outputElement.lastPromiseValue);\n",
              "  return Promise.resolve(next.value.promise).then((value) => {\n",
              "    // Cache the last promise value to make it available to the next\n",
              "    // step of the generator.\n",
              "    outputElement.lastPromiseValue = value;\n",
              "    return next.value.response;\n",
              "  });\n",
              "}\n",
              "\n",
              "/**\n",
              " * Generator function which is called between each async step of the upload\n",
              " * process.\n",
              " * @param {string} inputId Element ID of the input file picker element.\n",
              " * @param {string} outputId Element ID of the output display.\n",
              " * @return {!Iterable<!Object>} Iterable of next steps.\n",
              " */\n",
              "function* uploadFilesStep(inputId, outputId) {\n",
              "  const inputElement = document.getElementById(inputId);\n",
              "  inputElement.disabled = false;\n",
              "\n",
              "  const outputElement = document.getElementById(outputId);\n",
              "  outputElement.innerHTML = '';\n",
              "\n",
              "  const pickedPromise = new Promise((resolve) => {\n",
              "    inputElement.addEventListener('change', (e) => {\n",
              "      resolve(e.target.files);\n",
              "    });\n",
              "  });\n",
              "\n",
              "  const cancel = document.createElement('button');\n",
              "  inputElement.parentElement.appendChild(cancel);\n",
              "  cancel.textContent = 'Cancel upload';\n",
              "  const cancelPromise = new Promise((resolve) => {\n",
              "    cancel.onclick = () => {\n",
              "      resolve(null);\n",
              "    };\n",
              "  });\n",
              "\n",
              "  // Wait for the user to pick the files.\n",
              "  const files = yield {\n",
              "    promise: Promise.race([pickedPromise, cancelPromise]),\n",
              "    response: {\n",
              "      action: 'starting',\n",
              "    }\n",
              "  };\n",
              "\n",
              "  cancel.remove();\n",
              "\n",
              "  // Disable the input element since further picks are not allowed.\n",
              "  inputElement.disabled = true;\n",
              "\n",
              "  if (!files) {\n",
              "    return {\n",
              "      response: {\n",
              "        action: 'complete',\n",
              "      }\n",
              "    };\n",
              "  }\n",
              "\n",
              "  for (const file of files) {\n",
              "    const li = document.createElement('li');\n",
              "    li.append(span(file.name, {fontWeight: 'bold'}));\n",
              "    li.append(span(\n",
              "        `(${file.type || 'n/a'}) - ${file.size} bytes, ` +\n",
              "        `last modified: ${\n",
              "            file.lastModifiedDate ? file.lastModifiedDate.toLocaleDateString() :\n",
              "                                    'n/a'} - `));\n",
              "    const percent = span('0% done');\n",
              "    li.appendChild(percent);\n",
              "\n",
              "    outputElement.appendChild(li);\n",
              "\n",
              "    const fileDataPromise = new Promise((resolve) => {\n",
              "      const reader = new FileReader();\n",
              "      reader.onload = (e) => {\n",
              "        resolve(e.target.result);\n",
              "      };\n",
              "      reader.readAsArrayBuffer(file);\n",
              "    });\n",
              "    // Wait for the data to be ready.\n",
              "    let fileData = yield {\n",
              "      promise: fileDataPromise,\n",
              "      response: {\n",
              "        action: 'continue',\n",
              "      }\n",
              "    };\n",
              "\n",
              "    // Use a chunked sending to avoid message size limits. See b/62115660.\n",
              "    let position = 0;\n",
              "    do {\n",
              "      const length = Math.min(fileData.byteLength - position, MAX_PAYLOAD_SIZE);\n",
              "      const chunk = new Uint8Array(fileData, position, length);\n",
              "      position += length;\n",
              "\n",
              "      const base64 = btoa(String.fromCharCode.apply(null, chunk));\n",
              "      yield {\n",
              "        response: {\n",
              "          action: 'append',\n",
              "          file: file.name,\n",
              "          data: base64,\n",
              "        },\n",
              "      };\n",
              "\n",
              "      let percentDone = fileData.byteLength === 0 ?\n",
              "          100 :\n",
              "          Math.round((position / fileData.byteLength) * 100);\n",
              "      percent.textContent = `${percentDone}% done`;\n",
              "\n",
              "    } while (position < fileData.byteLength);\n",
              "  }\n",
              "\n",
              "  // All done.\n",
              "  yield {\n",
              "    response: {\n",
              "      action: 'complete',\n",
              "    }\n",
              "  };\n",
              "}\n",
              "\n",
              "scope.google = scope.google || {};\n",
              "scope.google.colab = scope.google.colab || {};\n",
              "scope.google.colab._files = {\n",
              "  _uploadFiles,\n",
              "  _uploadFilesContinue,\n",
              "};\n",
              "})(self);\n",
              "</script> "
            ]
          },
          "metadata": {}
        },
        {
          "output_type": "stream",
          "name": "stdout",
          "text": [
            "Saving FIFA_test.csv to FIFA_test.csv\n",
            "Saving FIFA_train.csv to FIFA_train.csv\n",
            "Saving submission.csv to submission.csv\n"
          ]
        }
      ],
      "source": [
        "from google.colab import files\n",
        "my = files.upload()"
      ]
    },
    {
      "cell_type": "code",
      "source": [
        "import pandas as pd\n",
        "import numpy as np\n",
        "import matplotlib.pyplot as plt\n",
        "import seaborn as sns\n",
        "import warnings\n",
        "warnings.filterwarnings(action='ignore')\n",
        "\n",
        "train_df = pd.read_csv('/content/FIFA_train.csv')\n",
        "test_df = pd.read_csv('/content/FIFA_test.csv')"
      ],
      "metadata": {
        "id": "UcR_JmhGlSEs"
      },
      "execution_count": null,
      "outputs": []
    },
    {
      "cell_type": "code",
      "source": [
        "train_df.drop(['id', 'name'], axis = 1, inplace = True)\n",
        "test_df.drop(['id', 'name'], axis = 1, inplace = True)"
      ],
      "metadata": {
        "id": "Mx4jvArdyI8M"
      },
      "execution_count": null,
      "outputs": []
    },
    {
      "cell_type": "code",
      "source": [
        "def func_con(string:object) -> int:\n",
        "    \"\"\"계약 연도만 추출하여 int로 반환\"\"\"\n",
        "    string = string[-4:]\n",
        "    return int(string)"
      ],
      "metadata": {
        "id": "hVbB1XtjlUcy"
      },
      "execution_count": null,
      "outputs": []
    },
    {
      "cell_type": "code",
      "source": [
        "train_df['contract_until'] = train_df['contract_until'].apply(func_con)\n",
        "test_df['contract_until'] = test_df['contract_until'].apply(func_con)"
      ],
      "metadata": {
        "id": "g7Z5NWvdlWc5"
      },
      "execution_count": null,
      "outputs": []
    },
    {
      "cell_type": "code",
      "source": [
        "train_df.describe(include = 'all')"
      ],
      "metadata": {
        "id": "9w7-SKciwXTW",
        "colab": {
          "base_uri": "https://localhost:8080/",
          "height": 438
        },
        "outputId": "dcc08fa0-1929-41ce-a088-5ef507b30db4"
      },
      "execution_count": null,
      "outputs": [
        {
          "output_type": "execute_result",
          "data": {
            "text/plain": [
              "                age continent  contract_until position prefer_foot  \\\n",
              "count   8932.000000      8932     8932.000000     8932        8932   \n",
              "unique          NaN         5             NaN        4           2   \n",
              "top             NaN    europe             NaN       MF       right   \n",
              "freq            NaN      5322             NaN     3428        6837   \n",
              "mean      25.209136       NaN     2020.194357      NaN         NaN   \n",
              "std        4.635515       NaN        1.266901      NaN         NaN   \n",
              "min       16.000000       NaN     2018.000000      NaN         NaN   \n",
              "25%       21.000000       NaN     2019.000000      NaN         NaN   \n",
              "50%       25.000000       NaN     2020.000000      NaN         NaN   \n",
              "75%       28.000000       NaN     2021.000000      NaN         NaN   \n",
              "max       40.000000       NaN     2026.000000      NaN         NaN   \n",
              "\n",
              "         reputation  stat_overall  stat_potential  stat_skill_moves  \\\n",
              "count   8932.000000   8932.000000     8932.000000       8932.000000   \n",
              "unique          NaN           NaN             NaN               NaN   \n",
              "top             NaN           NaN             NaN               NaN   \n",
              "freq            NaN           NaN             NaN               NaN   \n",
              "mean       1.130878     67.091133       71.997201          2.401702   \n",
              "std        0.423792      6.854910        5.988147          0.776048   \n",
              "min        1.000000     47.000000       48.000000          1.000000   \n",
              "25%        1.000000     63.000000       68.000000          2.000000   \n",
              "50%        1.000000     67.000000       72.000000          2.000000   \n",
              "75%        1.000000     72.000000       76.000000          3.000000   \n",
              "max        5.000000     94.000000       94.000000          5.000000   \n",
              "\n",
              "               value  \n",
              "count   8.932000e+03  \n",
              "unique           NaN  \n",
              "top              NaN  \n",
              "freq             NaN  \n",
              "mean    2.778673e+06  \n",
              "std     5.840982e+06  \n",
              "min     1.000000e+04  \n",
              "25%     3.750000e+05  \n",
              "50%     8.250000e+05  \n",
              "75%     2.600000e+06  \n",
              "max     1.105000e+08  "
            ],
            "text/html": [
              "\n",
              "  <div id=\"df-8f4a37fc-84ce-4d59-9dab-09559492b7d1\">\n",
              "    <div class=\"colab-df-container\">\n",
              "      <div>\n",
              "<style scoped>\n",
              "    .dataframe tbody tr th:only-of-type {\n",
              "        vertical-align: middle;\n",
              "    }\n",
              "\n",
              "    .dataframe tbody tr th {\n",
              "        vertical-align: top;\n",
              "    }\n",
              "\n",
              "    .dataframe thead th {\n",
              "        text-align: right;\n",
              "    }\n",
              "</style>\n",
              "<table border=\"1\" class=\"dataframe\">\n",
              "  <thead>\n",
              "    <tr style=\"text-align: right;\">\n",
              "      <th></th>\n",
              "      <th>age</th>\n",
              "      <th>continent</th>\n",
              "      <th>contract_until</th>\n",
              "      <th>position</th>\n",
              "      <th>prefer_foot</th>\n",
              "      <th>reputation</th>\n",
              "      <th>stat_overall</th>\n",
              "      <th>stat_potential</th>\n",
              "      <th>stat_skill_moves</th>\n",
              "      <th>value</th>\n",
              "    </tr>\n",
              "  </thead>\n",
              "  <tbody>\n",
              "    <tr>\n",
              "      <th>count</th>\n",
              "      <td>8932.000000</td>\n",
              "      <td>8932</td>\n",
              "      <td>8932.000000</td>\n",
              "      <td>8932</td>\n",
              "      <td>8932</td>\n",
              "      <td>8932.000000</td>\n",
              "      <td>8932.000000</td>\n",
              "      <td>8932.000000</td>\n",
              "      <td>8932.000000</td>\n",
              "      <td>8.932000e+03</td>\n",
              "    </tr>\n",
              "    <tr>\n",
              "      <th>unique</th>\n",
              "      <td>NaN</td>\n",
              "      <td>5</td>\n",
              "      <td>NaN</td>\n",
              "      <td>4</td>\n",
              "      <td>2</td>\n",
              "      <td>NaN</td>\n",
              "      <td>NaN</td>\n",
              "      <td>NaN</td>\n",
              "      <td>NaN</td>\n",
              "      <td>NaN</td>\n",
              "    </tr>\n",
              "    <tr>\n",
              "      <th>top</th>\n",
              "      <td>NaN</td>\n",
              "      <td>europe</td>\n",
              "      <td>NaN</td>\n",
              "      <td>MF</td>\n",
              "      <td>right</td>\n",
              "      <td>NaN</td>\n",
              "      <td>NaN</td>\n",
              "      <td>NaN</td>\n",
              "      <td>NaN</td>\n",
              "      <td>NaN</td>\n",
              "    </tr>\n",
              "    <tr>\n",
              "      <th>freq</th>\n",
              "      <td>NaN</td>\n",
              "      <td>5322</td>\n",
              "      <td>NaN</td>\n",
              "      <td>3428</td>\n",
              "      <td>6837</td>\n",
              "      <td>NaN</td>\n",
              "      <td>NaN</td>\n",
              "      <td>NaN</td>\n",
              "      <td>NaN</td>\n",
              "      <td>NaN</td>\n",
              "    </tr>\n",
              "    <tr>\n",
              "      <th>mean</th>\n",
              "      <td>25.209136</td>\n",
              "      <td>NaN</td>\n",
              "      <td>2020.194357</td>\n",
              "      <td>NaN</td>\n",
              "      <td>NaN</td>\n",
              "      <td>1.130878</td>\n",
              "      <td>67.091133</td>\n",
              "      <td>71.997201</td>\n",
              "      <td>2.401702</td>\n",
              "      <td>2.778673e+06</td>\n",
              "    </tr>\n",
              "    <tr>\n",
              "      <th>std</th>\n",
              "      <td>4.635515</td>\n",
              "      <td>NaN</td>\n",
              "      <td>1.266901</td>\n",
              "      <td>NaN</td>\n",
              "      <td>NaN</td>\n",
              "      <td>0.423792</td>\n",
              "      <td>6.854910</td>\n",
              "      <td>5.988147</td>\n",
              "      <td>0.776048</td>\n",
              "      <td>5.840982e+06</td>\n",
              "    </tr>\n",
              "    <tr>\n",
              "      <th>min</th>\n",
              "      <td>16.000000</td>\n",
              "      <td>NaN</td>\n",
              "      <td>2018.000000</td>\n",
              "      <td>NaN</td>\n",
              "      <td>NaN</td>\n",
              "      <td>1.000000</td>\n",
              "      <td>47.000000</td>\n",
              "      <td>48.000000</td>\n",
              "      <td>1.000000</td>\n",
              "      <td>1.000000e+04</td>\n",
              "    </tr>\n",
              "    <tr>\n",
              "      <th>25%</th>\n",
              "      <td>21.000000</td>\n",
              "      <td>NaN</td>\n",
              "      <td>2019.000000</td>\n",
              "      <td>NaN</td>\n",
              "      <td>NaN</td>\n",
              "      <td>1.000000</td>\n",
              "      <td>63.000000</td>\n",
              "      <td>68.000000</td>\n",
              "      <td>2.000000</td>\n",
              "      <td>3.750000e+05</td>\n",
              "    </tr>\n",
              "    <tr>\n",
              "      <th>50%</th>\n",
              "      <td>25.000000</td>\n",
              "      <td>NaN</td>\n",
              "      <td>2020.000000</td>\n",
              "      <td>NaN</td>\n",
              "      <td>NaN</td>\n",
              "      <td>1.000000</td>\n",
              "      <td>67.000000</td>\n",
              "      <td>72.000000</td>\n",
              "      <td>2.000000</td>\n",
              "      <td>8.250000e+05</td>\n",
              "    </tr>\n",
              "    <tr>\n",
              "      <th>75%</th>\n",
              "      <td>28.000000</td>\n",
              "      <td>NaN</td>\n",
              "      <td>2021.000000</td>\n",
              "      <td>NaN</td>\n",
              "      <td>NaN</td>\n",
              "      <td>1.000000</td>\n",
              "      <td>72.000000</td>\n",
              "      <td>76.000000</td>\n",
              "      <td>3.000000</td>\n",
              "      <td>2.600000e+06</td>\n",
              "    </tr>\n",
              "    <tr>\n",
              "      <th>max</th>\n",
              "      <td>40.000000</td>\n",
              "      <td>NaN</td>\n",
              "      <td>2026.000000</td>\n",
              "      <td>NaN</td>\n",
              "      <td>NaN</td>\n",
              "      <td>5.000000</td>\n",
              "      <td>94.000000</td>\n",
              "      <td>94.000000</td>\n",
              "      <td>5.000000</td>\n",
              "      <td>1.105000e+08</td>\n",
              "    </tr>\n",
              "  </tbody>\n",
              "</table>\n",
              "</div>\n",
              "      <button class=\"colab-df-convert\" onclick=\"convertToInteractive('df-8f4a37fc-84ce-4d59-9dab-09559492b7d1')\"\n",
              "              title=\"Convert this dataframe to an interactive table.\"\n",
              "              style=\"display:none;\">\n",
              "        \n",
              "  <svg xmlns=\"http://www.w3.org/2000/svg\" height=\"24px\"viewBox=\"0 0 24 24\"\n",
              "       width=\"24px\">\n",
              "    <path d=\"M0 0h24v24H0V0z\" fill=\"none\"/>\n",
              "    <path d=\"M18.56 5.44l.94 2.06.94-2.06 2.06-.94-2.06-.94-.94-2.06-.94 2.06-2.06.94zm-11 1L8.5 8.5l.94-2.06 2.06-.94-2.06-.94L8.5 2.5l-.94 2.06-2.06.94zm10 10l.94 2.06.94-2.06 2.06-.94-2.06-.94-.94-2.06-.94 2.06-2.06.94z\"/><path d=\"M17.41 7.96l-1.37-1.37c-.4-.4-.92-.59-1.43-.59-.52 0-1.04.2-1.43.59L10.3 9.45l-7.72 7.72c-.78.78-.78 2.05 0 2.83L4 21.41c.39.39.9.59 1.41.59.51 0 1.02-.2 1.41-.59l7.78-7.78 2.81-2.81c.8-.78.8-2.07 0-2.86zM5.41 20L4 18.59l7.72-7.72 1.47 1.35L5.41 20z\"/>\n",
              "  </svg>\n",
              "      </button>\n",
              "      \n",
              "  <style>\n",
              "    .colab-df-container {\n",
              "      display:flex;\n",
              "      flex-wrap:wrap;\n",
              "      gap: 12px;\n",
              "    }\n",
              "\n",
              "    .colab-df-convert {\n",
              "      background-color: #E8F0FE;\n",
              "      border: none;\n",
              "      border-radius: 50%;\n",
              "      cursor: pointer;\n",
              "      display: none;\n",
              "      fill: #1967D2;\n",
              "      height: 32px;\n",
              "      padding: 0 0 0 0;\n",
              "      width: 32px;\n",
              "    }\n",
              "\n",
              "    .colab-df-convert:hover {\n",
              "      background-color: #E2EBFA;\n",
              "      box-shadow: 0px 1px 2px rgba(60, 64, 67, 0.3), 0px 1px 3px 1px rgba(60, 64, 67, 0.15);\n",
              "      fill: #174EA6;\n",
              "    }\n",
              "\n",
              "    [theme=dark] .colab-df-convert {\n",
              "      background-color: #3B4455;\n",
              "      fill: #D2E3FC;\n",
              "    }\n",
              "\n",
              "    [theme=dark] .colab-df-convert:hover {\n",
              "      background-color: #434B5C;\n",
              "      box-shadow: 0px 1px 3px 1px rgba(0, 0, 0, 0.15);\n",
              "      filter: drop-shadow(0px 1px 2px rgba(0, 0, 0, 0.3));\n",
              "      fill: #FFFFFF;\n",
              "    }\n",
              "  </style>\n",
              "\n",
              "      <script>\n",
              "        const buttonEl =\n",
              "          document.querySelector('#df-8f4a37fc-84ce-4d59-9dab-09559492b7d1 button.colab-df-convert');\n",
              "        buttonEl.style.display =\n",
              "          google.colab.kernel.accessAllowed ? 'block' : 'none';\n",
              "\n",
              "        async function convertToInteractive(key) {\n",
              "          const element = document.querySelector('#df-8f4a37fc-84ce-4d59-9dab-09559492b7d1');\n",
              "          const dataTable =\n",
              "            await google.colab.kernel.invokeFunction('convertToInteractive',\n",
              "                                                     [key], {});\n",
              "          if (!dataTable) return;\n",
              "\n",
              "          const docLinkHtml = 'Like what you see? Visit the ' +\n",
              "            '<a target=\"_blank\" href=https://colab.research.google.com/notebooks/data_table.ipynb>data table notebook</a>'\n",
              "            + ' to learn more about interactive tables.';\n",
              "          element.innerHTML = '';\n",
              "          dataTable['output_type'] = 'display_data';\n",
              "          await google.colab.output.renderOutput(dataTable, element);\n",
              "          const docLink = document.createElement('div');\n",
              "          docLink.innerHTML = docLinkHtml;\n",
              "          element.appendChild(docLink);\n",
              "        }\n",
              "      </script>\n",
              "    </div>\n",
              "  </div>\n",
              "  "
            ]
          },
          "metadata": {},
          "execution_count": 7
        }
      ]
    },
    {
      "cell_type": "code",
      "source": [
        "#더미화\n",
        "train_df = pd.get_dummies(columns = ['continent', 'position', 'prefer_foot'], data = train_df)\n",
        "test_df = pd.get_dummies(columns = ['continent', 'position', 'prefer_foot'], data = test_df)"
      ],
      "metadata": {
        "id": "Gcxo-EFZwECC"
      },
      "execution_count": null,
      "outputs": []
    },
    {
      "cell_type": "code",
      "source": [
        "train_df.head()"
      ],
      "metadata": {
        "id": "K5AA5Qs0tp9d"
      },
      "execution_count": null,
      "outputs": []
    },
    {
      "cell_type": "code",
      "source": [
        "test_df.head()"
      ],
      "metadata": {
        "id": "9cxouhK6tqZF"
      },
      "execution_count": null,
      "outputs": []
    },
    {
      "cell_type": "code",
      "source": [
        "train_df[\"log_value\"] = np.log1p(train_df[\"value\"])\n",
        "train_df[\"contract_until\"] = train_df[\"contract_until\"].apply(lambda x: x-2018)\n",
        "test_df[\"contract_until\"] = test_df[\"contract_until\"].apply(lambda x: x-2018)\n",
        "\n",
        "x = train_df.drop(['value','log_value'], axis = 1)\n",
        "y = train_df['log_value']\n"
      ],
      "metadata": {
        "id": "JnQSVvvEldMZ"
      },
      "execution_count": null,
      "outputs": []
    },
    {
      "cell_type": "code",
      "source": [
        "from sklearn.model_selection import train_test_split\n",
        "# train_test_split\n",
        "x_train, x_test, y_train, y_test = train_test_split(x, y, test_size=0.3, random_state = 33)"
      ],
      "metadata": {
        "id": "IZOUzgPXlmCj"
      },
      "execution_count": null,
      "outputs": []
    },
    {
      "cell_type": "code",
      "source": [
        "# 데이터 스케일링 \n",
        "from sklearn.preprocessing import StandardScaler\n",
        "\n",
        "scaler = StandardScaler()\n",
        "\n",
        "x_train = pd.DataFrame(scaler.fit_transform(x_train), columns = x.columns)\n",
        "x_test = pd.DataFrame(scaler.fit_transform(x_test), columns = x_test.columns)"
      ],
      "metadata": {
        "id": "QK7ngmG6l-e8"
      },
      "execution_count": null,
      "outputs": []
    },
    {
      "cell_type": "code",
      "source": [
        "test_df = pd.DataFrame(scaler.fit_transform(test_df), columns = test_df.columns)"
      ],
      "metadata": {
        "id": "8odvP9pMSJdK"
      },
      "execution_count": null,
      "outputs": []
    },
    {
      "cell_type": "code",
      "source": [
        "#y_train = scaler.fit_transform(y_train.values.reshape(-1,1))\n",
        "#y_test = scaler.fit_transform(y_test.values.reshape(-1,1))"
      ],
      "metadata": {
        "id": "l_cQJQ16p0Np"
      },
      "execution_count": null,
      "outputs": []
    },
    {
      "cell_type": "code",
      "source": [
        "x_train.shape, x_test.shape, y_train.shape, y_test.shape"
      ],
      "metadata": {
        "colab": {
          "base_uri": "https://localhost:8080/"
        },
        "id": "qWcRYhtVo1i-",
        "outputId": "18900f9b-9751-458a-8873-851e9fee47a5"
      },
      "execution_count": null,
      "outputs": [
        {
          "output_type": "execute_result",
          "data": {
            "text/plain": [
              "((6252, 17), (2680, 17), (6252,), (2680,))"
            ]
          },
          "metadata": {},
          "execution_count": 13
        }
      ]
    },
    {
      "cell_type": "code",
      "source": [
        "!pip install bayesian-optimization"
      ],
      "metadata": {
        "id": "3cY49N5qMutR"
      },
      "execution_count": null,
      "outputs": []
    },
    {
      "cell_type": "code",
      "source": [
        "from xgboost import XGBRegressor\n",
        "from sklearn.model_selection import *\n",
        "from sklearn.metrics import *\n",
        "from bayes_opt import BayesianOptimization\n",
        "\n",
        "pbounds = { 'learning_rate': (0.0001, 0.4),\n",
        "            'n_estimators': (16, 1024),\n",
        "            'max_depth': (3,10),   \n",
        "            'subsample': (0.5, 1),  \n",
        "            'colsample_bytree': (0.5, 1),   \n",
        "            'gamma': (0, 5)}\n",
        "\n",
        "def xgb_func(learning_rate, n_estimators, max_depth, subsample, colsample_bytree, gamma):\n",
        "    \n",
        "    params = {\n",
        "        'learning_rate': learning_rate,\n",
        "        'n_estimators' : int(round(n_estimators)),\n",
        "        'max_depth' : int(round(max_depth)),\n",
        "        'subsample': subsample,\n",
        "        'colsample': colsample_bytree,   \n",
        "        'gamma': gamma,\n",
        "        'n_jobs' : -1,\n",
        "        'random_state' : 333\n",
        "    }\n",
        "    \n",
        "    xgb = XGBRegressor(**params) #**는 파라미터 변수 명까지 딕셔너리로 전달\n",
        "    \n",
        "    kf = KFold(n_splits = 4 , shuffle=True, random_state=333)\n",
        "\n",
        "    score = cross_val_score(xgb, x_train, y_train, scoring='neg_mean_squared_error', cv=kf, n_jobs=-1)\n",
        "    \n",
        "    return np.mean(score)\n"
      ],
      "metadata": {
        "id": "GecI5522mWVa"
      },
      "execution_count": null,
      "outputs": []
    },
    {
      "cell_type": "code",
      "source": [
        "optimizer = BayesianOptimization(f = xgb_func, pbounds = pbounds, random_state=333)\n",
        "optimizer.maximize(init_points = 10, n_iter = 190)"
      ],
      "metadata": {
        "colab": {
          "base_uri": "https://localhost:8080/"
        },
        "id": "RuJmEcZELe_G",
        "outputId": "f114e67a-1831-42ec-a555-7f1526c863b6"
      },
      "execution_count": null,
      "outputs": [
        {
          "output_type": "stream",
          "name": "stdout",
          "text": [
            "|   iter    |  target   | colsam... |   gamma   | learni... | max_depth | n_esti... | subsample |\n",
            "-------------------------------------------------------------------------------------------------\n",
            "| \u001b[0m1        \u001b[0m | \u001b[0m-0.92    \u001b[0m | \u001b[0m0.7716   \u001b[0m | \u001b[0m3.645    \u001b[0m | \u001b[0m0.006851 \u001b[0m | \u001b[0m5.312    \u001b[0m | \u001b[0m387.7    \u001b[0m | \u001b[0m0.5242   \u001b[0m |\n",
            "| \u001b[95m2        \u001b[0m | \u001b[95m-0.01121 \u001b[0m | \u001b[95m0.5523   \u001b[0m | \u001b[95m0.4872   \u001b[0m | \u001b[95m0.09824  \u001b[0m | \u001b[95m9.114    \u001b[0m | \u001b[95m68.02    \u001b[0m | \u001b[95m0.5302   \u001b[0m |\n",
            "| \u001b[0m3        \u001b[0m | \u001b[0m-0.01198 \u001b[0m | \u001b[0m0.6194   \u001b[0m | \u001b[0m1.018    \u001b[0m | \u001b[0m0.0699   \u001b[0m | \u001b[0m5.907    \u001b[0m | \u001b[0m965.3    \u001b[0m | \u001b[0m0.7335   \u001b[0m |\n",
            "| \u001b[0m4        \u001b[0m | \u001b[0m-0.02956 \u001b[0m | \u001b[0m0.98     \u001b[0m | \u001b[0m4.999    \u001b[0m | \u001b[0m0.2906   \u001b[0m | \u001b[0m6.39     \u001b[0m | \u001b[0m143.9    \u001b[0m | \u001b[0m0.5527   \u001b[0m |\n",
            "| \u001b[0m5        \u001b[0m | \u001b[0m-0.01319 \u001b[0m | \u001b[0m0.5211   \u001b[0m | \u001b[0m1.221    \u001b[0m | \u001b[0m0.0287   \u001b[0m | \u001b[0m9.969    \u001b[0m | \u001b[0m218.9    \u001b[0m | \u001b[0m0.9412   \u001b[0m |\n",
            "| \u001b[0m6        \u001b[0m | \u001b[0m-0.01297 \u001b[0m | \u001b[0m0.6226   \u001b[0m | \u001b[0m0.5772   \u001b[0m | \u001b[0m0.2369   \u001b[0m | \u001b[0m7.958    \u001b[0m | \u001b[0m147.3    \u001b[0m | \u001b[0m0.5593   \u001b[0m |\n",
            "| \u001b[0m7        \u001b[0m | \u001b[0m-0.02    \u001b[0m | \u001b[0m0.5019   \u001b[0m | \u001b[0m2.847    \u001b[0m | \u001b[0m0.1928   \u001b[0m | \u001b[0m5.388    \u001b[0m | \u001b[0m282.8    \u001b[0m | \u001b[0m0.6739   \u001b[0m |\n",
            "| \u001b[0m8        \u001b[0m | \u001b[0m-0.03154 \u001b[0m | \u001b[0m0.9604   \u001b[0m | \u001b[0m4.916    \u001b[0m | \u001b[0m0.3906   \u001b[0m | \u001b[0m3.299    \u001b[0m | \u001b[0m830.5    \u001b[0m | \u001b[0m0.9333   \u001b[0m |\n",
            "| \u001b[0m9        \u001b[0m | \u001b[0m-0.01901 \u001b[0m | \u001b[0m0.759    \u001b[0m | \u001b[0m3.577    \u001b[0m | \u001b[0m0.0763   \u001b[0m | \u001b[0m7.505    \u001b[0m | \u001b[0m567.1    \u001b[0m | \u001b[0m0.7798   \u001b[0m |\n",
            "| \u001b[0m10       \u001b[0m | \u001b[0m-0.01524 \u001b[0m | \u001b[0m0.5966   \u001b[0m | \u001b[0m1.622    \u001b[0m | \u001b[0m0.07284  \u001b[0m | \u001b[0m7.322    \u001b[0m | \u001b[0m306.2    \u001b[0m | \u001b[0m0.5672   \u001b[0m |\n",
            "| \u001b[0m11       \u001b[0m | \u001b[0m-0.02486 \u001b[0m | \u001b[0m0.6631   \u001b[0m | \u001b[0m4.907    \u001b[0m | \u001b[0m0.1549   \u001b[0m | \u001b[0m7.257    \u001b[0m | \u001b[0m670.8    \u001b[0m | \u001b[0m0.5218   \u001b[0m |\n",
            "| \u001b[0m12       \u001b[0m | \u001b[0m-153.9   \u001b[0m | \u001b[0m0.6797   \u001b[0m | \u001b[0m0.0      \u001b[0m | \u001b[0m0.0001   \u001b[0m | \u001b[0m10.0     \u001b[0m | \u001b[0m750.6    \u001b[0m | \u001b[0m1.0      \u001b[0m |\n",
            "| \u001b[0m13       \u001b[0m | \u001b[0m-0.03451 \u001b[0m | \u001b[0m1.0      \u001b[0m | \u001b[0m5.0      \u001b[0m | \u001b[0m0.4      \u001b[0m | \u001b[0m3.0      \u001b[0m | \u001b[0m892.2    \u001b[0m | \u001b[0m0.5      \u001b[0m |\n",
            "| \u001b[95m14       \u001b[0m | \u001b[95m-0.005569\u001b[0m | \u001b[95m0.5      \u001b[0m | \u001b[95m0.0      \u001b[0m | \u001b[95m0.4      \u001b[0m | \u001b[95m3.0      \u001b[0m | \u001b[95m477.8    \u001b[0m | \u001b[95m1.0      \u001b[0m |\n",
            "| \u001b[0m15       \u001b[0m | \u001b[0m-0.02933 \u001b[0m | \u001b[0m1.0      \u001b[0m | \u001b[0m5.0      \u001b[0m | \u001b[0m0.4      \u001b[0m | \u001b[0m10.0     \u001b[0m | \u001b[0m1.024e+03\u001b[0m | \u001b[0m1.0      \u001b[0m |\n",
            "| \u001b[0m16       \u001b[0m | \u001b[0m-157.9   \u001b[0m | \u001b[0m0.5      \u001b[0m | \u001b[0m0.0      \u001b[0m | \u001b[0m0.0001   \u001b[0m | \u001b[0m3.0      \u001b[0m | \u001b[0m622.4    \u001b[0m | \u001b[0m0.5      \u001b[0m |\n",
            "| \u001b[0m17       \u001b[0m | \u001b[0m-0.02142 \u001b[0m | \u001b[0m0.8629   \u001b[0m | \u001b[0m5.0      \u001b[0m | \u001b[0m0.1457   \u001b[0m | \u001b[0m9.596    \u001b[0m | \u001b[0m525.2    \u001b[0m | \u001b[0m0.9516   \u001b[0m |\n",
            "| \u001b[0m18       \u001b[0m | \u001b[0m-164.0   \u001b[0m | \u001b[0m1.0      \u001b[0m | \u001b[0m5.0      \u001b[0m | \u001b[0m0.0001   \u001b[0m | \u001b[0m10.0     \u001b[0m | \u001b[0m433.0    \u001b[0m | \u001b[0m0.5      \u001b[0m |\n",
            "| \u001b[0m19       \u001b[0m | \u001b[0m-0.01811 \u001b[0m | \u001b[0m0.9576   \u001b[0m | \u001b[0m3.313    \u001b[0m | \u001b[0m0.1437   \u001b[0m | \u001b[0m5.203    \u001b[0m | \u001b[0m352.5    \u001b[0m | \u001b[0m0.9018   \u001b[0m |\n",
            "| \u001b[0m20       \u001b[0m | \u001b[0m-148.6   \u001b[0m | \u001b[0m0.5      \u001b[0m | \u001b[0m0.0      \u001b[0m | \u001b[0m0.0001   \u001b[0m | \u001b[0m10.0     \u001b[0m | \u001b[0m928.3    \u001b[0m | \u001b[0m1.0      \u001b[0m |\n",
            "| \u001b[0m21       \u001b[0m | \u001b[0m-0.01818 \u001b[0m | \u001b[0m0.7814   \u001b[0m | \u001b[0m2.673    \u001b[0m | \u001b[0m0.2049   \u001b[0m | \u001b[0m6.764    \u001b[0m | \u001b[0m993.2    \u001b[0m | \u001b[0m0.7897   \u001b[0m |\n",
            "| \u001b[0m22       \u001b[0m | \u001b[0m-0.02079 \u001b[0m | \u001b[0m0.5153   \u001b[0m | \u001b[0m4.556    \u001b[0m | \u001b[0m0.0587   \u001b[0m | \u001b[0m3.08     \u001b[0m | \u001b[0m862.9    \u001b[0m | \u001b[0m0.9067   \u001b[0m |\n",
            "| \u001b[0m23       \u001b[0m | \u001b[0m-0.03218 \u001b[0m | \u001b[0m1.0      \u001b[0m | \u001b[0m5.0      \u001b[0m | \u001b[0m0.4      \u001b[0m | \u001b[0m3.0      \u001b[0m | \u001b[0m184.3    \u001b[0m | \u001b[0m1.0      \u001b[0m |\n",
            "| \u001b[0m24       \u001b[0m | \u001b[0m-0.006865\u001b[0m | \u001b[0m0.6077   \u001b[0m | \u001b[0m0.05302  \u001b[0m | \u001b[0m0.1855   \u001b[0m | \u001b[0m9.076    \u001b[0m | \u001b[0m105.3    \u001b[0m | \u001b[0m0.6933   \u001b[0m |\n",
            "| \u001b[0m25       \u001b[0m | \u001b[0m-0.03195 \u001b[0m | \u001b[0m0.7277   \u001b[0m | \u001b[0m3.998    \u001b[0m | \u001b[0m0.3823   \u001b[0m | \u001b[0m3.942    \u001b[0m | \u001b[0m29.17    \u001b[0m | \u001b[0m0.5211   \u001b[0m |\n",
            "| \u001b[0m26       \u001b[0m | \u001b[0m-0.005964\u001b[0m | \u001b[0m1.0      \u001b[0m | \u001b[0m0.0      \u001b[0m | \u001b[0m0.4      \u001b[0m | \u001b[0m3.0      \u001b[0m | \u001b[0m250.0    \u001b[0m | \u001b[0m1.0      \u001b[0m |\n",
            "| \u001b[0m27       \u001b[0m | \u001b[0m-0.01433 \u001b[0m | \u001b[0m0.7485   \u001b[0m | \u001b[0m1.69     \u001b[0m | \u001b[0m0.09934  \u001b[0m | \u001b[0m3.05     \u001b[0m | \u001b[0m698.1    \u001b[0m | \u001b[0m0.8393   \u001b[0m |\n",
            "| \u001b[0m28       \u001b[0m | \u001b[0m-0.01222 \u001b[0m | \u001b[0m0.5904   \u001b[0m | \u001b[0m0.6555   \u001b[0m | \u001b[0m0.1636   \u001b[0m | \u001b[0m3.922    \u001b[0m | \u001b[0m502.0    \u001b[0m | \u001b[0m0.8628   \u001b[0m |\n",
            "| \u001b[0m29       \u001b[0m | \u001b[0m-152.3   \u001b[0m | \u001b[0m0.5      \u001b[0m | \u001b[0m0.0      \u001b[0m | \u001b[0m0.0001   \u001b[0m | \u001b[0m10.0     \u001b[0m | \u001b[0m803.7    \u001b[0m | \u001b[0m0.5      \u001b[0m |\n",
            "| \u001b[0m30       \u001b[0m | \u001b[0m-0.01179 \u001b[0m | \u001b[0m0.6347   \u001b[0m | \u001b[0m0.6744   \u001b[0m | \u001b[0m0.05201  \u001b[0m | \u001b[0m3.335    \u001b[0m | \u001b[0m546.1    \u001b[0m | \u001b[0m0.8596   \u001b[0m |\n",
            "| \u001b[0m31       \u001b[0m | \u001b[0m-0.02598 \u001b[0m | \u001b[0m0.8429   \u001b[0m | \u001b[0m4.528    \u001b[0m | \u001b[0m0.2693   \u001b[0m | \u001b[0m3.282    \u001b[0m | \u001b[0m329.6    \u001b[0m | \u001b[0m0.6568   \u001b[0m |\n",
            "| \u001b[0m32       \u001b[0m | \u001b[0m-0.01469 \u001b[0m | \u001b[0m0.5932   \u001b[0m | \u001b[0m0.8305   \u001b[0m | \u001b[0m0.3491   \u001b[0m | \u001b[0m9.782    \u001b[0m | \u001b[0m845.6    \u001b[0m | \u001b[0m0.6212   \u001b[0m |\n",
            "| \u001b[0m33       \u001b[0m | \u001b[0m-177.0   \u001b[0m | \u001b[0m1.0      \u001b[0m | \u001b[0m5.0      \u001b[0m | \u001b[0m0.0001   \u001b[0m | \u001b[0m3.0      \u001b[0m | \u001b[0m49.6     \u001b[0m | \u001b[0m1.0      \u001b[0m |\n",
            "| \u001b[0m34       \u001b[0m | \u001b[0m-0.00594 \u001b[0m | \u001b[0m0.5      \u001b[0m | \u001b[0m0.0      \u001b[0m | \u001b[0m0.1525   \u001b[0m | \u001b[0m10.0     \u001b[0m | \u001b[0m84.51    \u001b[0m | \u001b[0m0.5      \u001b[0m |\n",
            "| \u001b[0m35       \u001b[0m | \u001b[0m-0.03516 \u001b[0m | \u001b[0m0.6242   \u001b[0m | \u001b[0m4.911    \u001b[0m | \u001b[0m0.3932   \u001b[0m | \u001b[0m9.613    \u001b[0m | \u001b[0m16.2     \u001b[0m | \u001b[0m0.52     \u001b[0m |\n",
            "| \u001b[0m36       \u001b[0m | \u001b[0m-0.006954\u001b[0m | \u001b[0m0.5      \u001b[0m | \u001b[0m0.0      \u001b[0m | \u001b[0m0.4      \u001b[0m | \u001b[0m3.0      \u001b[0m | \u001b[0m124.5    \u001b[0m | \u001b[0m1.0      \u001b[0m |\n",
            "| \u001b[0m37       \u001b[0m | \u001b[0m-0.02296 \u001b[0m | \u001b[0m0.531    \u001b[0m | \u001b[0m4.741    \u001b[0m | \u001b[0m0.2003   \u001b[0m | \u001b[0m9.582    \u001b[0m | \u001b[0m167.2    \u001b[0m | \u001b[0m0.8758   \u001b[0m |\n",
            "| \u001b[0m38       \u001b[0m | \u001b[0m-0.00583 \u001b[0m | \u001b[0m0.6578   \u001b[0m | \u001b[0m0.03617  \u001b[0m | \u001b[0m0.1287   \u001b[0m | \u001b[0m9.464    \u001b[0m | \u001b[0m371.5    \u001b[0m | \u001b[0m0.591    \u001b[0m |\n",
            "| \u001b[0m39       \u001b[0m | \u001b[0m-0.1053  \u001b[0m | \u001b[0m0.774    \u001b[0m | \u001b[0m1.897    \u001b[0m | \u001b[0m0.02571  \u001b[0m | \u001b[0m6.561    \u001b[0m | \u001b[0m147.1    \u001b[0m | \u001b[0m0.7898   \u001b[0m |\n",
            "| \u001b[0m40       \u001b[0m | \u001b[0m-0.01521 \u001b[0m | \u001b[0m0.5612   \u001b[0m | \u001b[0m1.571    \u001b[0m | \u001b[0m0.1933   \u001b[0m | \u001b[0m9.785    \u001b[0m | \u001b[0m201.8    \u001b[0m | \u001b[0m0.8926   \u001b[0m |\n",
            "| \u001b[0m41       \u001b[0m | \u001b[0m-0.008565\u001b[0m | \u001b[0m0.5      \u001b[0m | \u001b[0m0.0      \u001b[0m | \u001b[0m0.4      \u001b[0m | \u001b[0m10.0     \u001b[0m | \u001b[0m878.0    \u001b[0m | \u001b[0m1.0      \u001b[0m |\n",
            "| \u001b[0m42       \u001b[0m | \u001b[0m-0.02572 \u001b[0m | \u001b[0m0.981    \u001b[0m | \u001b[0m4.607    \u001b[0m | \u001b[0m0.2094   \u001b[0m | \u001b[0m9.737    \u001b[0m | \u001b[0m264.3    \u001b[0m | \u001b[0m0.5027   \u001b[0m |\n",
            "| \u001b[0m43       \u001b[0m | \u001b[0m-0.006064\u001b[0m | \u001b[0m0.5      \u001b[0m | \u001b[0m0.0      \u001b[0m | \u001b[0m0.4      \u001b[0m | \u001b[0m3.0      \u001b[0m | \u001b[0m1.01e+03 \u001b[0m | \u001b[0m0.5      \u001b[0m |\n",
            "| \u001b[0m44       \u001b[0m | \u001b[0m-0.008565\u001b[0m | \u001b[0m0.5      \u001b[0m | \u001b[0m0.0      \u001b[0m | \u001b[0m0.4      \u001b[0m | \u001b[0m10.0     \u001b[0m | \u001b[0m586.3    \u001b[0m | \u001b[0m1.0      \u001b[0m |\n",
            "| \u001b[0m45       \u001b[0m | \u001b[0m-0.03357 \u001b[0m | \u001b[0m0.5002   \u001b[0m | \u001b[0m4.872    \u001b[0m | \u001b[0m0.3999   \u001b[0m | \u001b[0m8.918    \u001b[0m | \u001b[0m715.2    \u001b[0m | \u001b[0m0.608    \u001b[0m |\n",
            "| \u001b[0m46       \u001b[0m | \u001b[0m-0.03072 \u001b[0m | \u001b[0m0.797    \u001b[0m | \u001b[0m4.352    \u001b[0m | \u001b[0m0.3958   \u001b[0m | \u001b[0m9.458    \u001b[0m | \u001b[0m235.3    \u001b[0m | \u001b[0m0.5738   \u001b[0m |\n",
            "| \u001b[0m47       \u001b[0m | \u001b[0m-0.008214\u001b[0m | \u001b[0m0.8113   \u001b[0m | \u001b[0m0.1476   \u001b[0m | \u001b[0m0.3442   \u001b[0m | \u001b[0m9.761    \u001b[0m | \u001b[0m684.1    \u001b[0m | \u001b[0m0.7992   \u001b[0m |\n",
            "| \u001b[0m48       \u001b[0m | \u001b[0m-0.02626 \u001b[0m | \u001b[0m0.769    \u001b[0m | \u001b[0m4.372    \u001b[0m | \u001b[0m0.2852   \u001b[0m | \u001b[0m3.352    \u001b[0m | \u001b[0m977.8    \u001b[0m | \u001b[0m0.6956   \u001b[0m |\n",
            "| \u001b[0m49       \u001b[0m | \u001b[0m-0.01984 \u001b[0m | \u001b[0m0.9769   \u001b[0m | \u001b[0m3.558    \u001b[0m | \u001b[0m0.191    \u001b[0m | \u001b[0m9.694    \u001b[0m | \u001b[0m488.8    \u001b[0m | \u001b[0m0.8367   \u001b[0m |\n",
            "| \u001b[0m50       \u001b[0m | \u001b[0m-0.02933 \u001b[0m | \u001b[0m1.0      \u001b[0m | \u001b[0m5.0      \u001b[0m | \u001b[0m0.4      \u001b[0m | \u001b[0m10.0     \u001b[0m | \u001b[0m653.9    \u001b[0m | \u001b[0m1.0      \u001b[0m |\n",
            "| \u001b[0m51       \u001b[0m | \u001b[0m-0.02355 \u001b[0m | \u001b[0m0.8076   \u001b[0m | \u001b[0m4.751    \u001b[0m | \u001b[0m0.1938   \u001b[0m | \u001b[0m9.451    \u001b[0m | \u001b[0m466.0    \u001b[0m | \u001b[0m0.6979   \u001b[0m |\n",
            "| \u001b[0m52       \u001b[0m | \u001b[0m-0.01216 \u001b[0m | \u001b[0m0.9642   \u001b[0m | \u001b[0m0.8003   \u001b[0m | \u001b[0m0.2203   \u001b[0m | \u001b[0m9.429    \u001b[0m | \u001b[0m340.0    \u001b[0m | \u001b[0m0.7986   \u001b[0m |\n",
            "| \u001b[0m53       \u001b[0m | \u001b[0m-1.758   \u001b[0m | \u001b[0m0.597    \u001b[0m | \u001b[0m0.2922   \u001b[0m | \u001b[0m0.1102   \u001b[0m | \u001b[0m3.085    \u001b[0m | \u001b[0m19.58    \u001b[0m | \u001b[0m0.5824   \u001b[0m |\n",
            "| \u001b[0m54       \u001b[0m | \u001b[0m-0.008328\u001b[0m | \u001b[0m0.6483   \u001b[0m | \u001b[0m0.1371   \u001b[0m | \u001b[0m0.282    \u001b[0m | \u001b[0m9.88     \u001b[0m | \u001b[0m321.8    \u001b[0m | \u001b[0m0.714    \u001b[0m |\n",
            "| \u001b[0m55       \u001b[0m | \u001b[0m-159.3   \u001b[0m | \u001b[0m1.0      \u001b[0m | \u001b[0m5.0      \u001b[0m | \u001b[0m0.0001   \u001b[0m | \u001b[0m3.0      \u001b[0m | \u001b[0m579.7    \u001b[0m | \u001b[0m0.5      \u001b[0m |\n",
            "| \u001b[0m56       \u001b[0m | \u001b[0m-0.02128 \u001b[0m | \u001b[0m0.7123   \u001b[0m | \u001b[0m3.771    \u001b[0m | \u001b[0m0.1259   \u001b[0m | \u001b[0m9.108    \u001b[0m | \u001b[0m556.6    \u001b[0m | \u001b[0m0.6743   \u001b[0m |\n",
            "| \u001b[0m57       \u001b[0m | \u001b[0m-0.01746 \u001b[0m | \u001b[0m0.6818   \u001b[0m | \u001b[0m1.809    \u001b[0m | \u001b[0m0.2948   \u001b[0m | \u001b[0m9.677    \u001b[0m | \u001b[0m598.8    \u001b[0m | \u001b[0m0.8894   \u001b[0m |\n",
            "| \u001b[0m58       \u001b[0m | \u001b[0m-0.005619\u001b[0m | \u001b[0m0.5      \u001b[0m | \u001b[0m0.0      \u001b[0m | \u001b[0m0.4      \u001b[0m | \u001b[0m3.0      \u001b[0m | \u001b[0m403.1    \u001b[0m | \u001b[0m1.0      \u001b[0m |\n",
            "| \u001b[0m59       \u001b[0m | \u001b[0m-0.01744 \u001b[0m | \u001b[0m0.8326   \u001b[0m | \u001b[0m0.8406   \u001b[0m | \u001b[0m0.3483   \u001b[0m | \u001b[0m3.245    \u001b[0m | \u001b[0m515.1    \u001b[0m | \u001b[0m0.8865   \u001b[0m |\n",
            "| \u001b[0m60       \u001b[0m | \u001b[0m-0.03218 \u001b[0m | \u001b[0m1.0      \u001b[0m | \u001b[0m5.0      \u001b[0m | \u001b[0m0.4      \u001b[0m | \u001b[0m3.0      \u001b[0m | \u001b[0m94.6     \u001b[0m | \u001b[0m1.0      \u001b[0m |\n",
            "| \u001b[0m61       \u001b[0m | \u001b[0m-0.02103 \u001b[0m | \u001b[0m0.9509   \u001b[0m | \u001b[0m4.796    \u001b[0m | \u001b[0m0.2028   \u001b[0m | \u001b[0m3.077    \u001b[0m | \u001b[0m295.3    \u001b[0m | \u001b[0m0.9852   \u001b[0m |\n",
            "| \u001b[0m62       \u001b[0m | \u001b[0m-149.3   \u001b[0m | \u001b[0m0.5      \u001b[0m | \u001b[0m0.0      \u001b[0m | \u001b[0m0.0001   \u001b[0m | \u001b[0m10.0     \u001b[0m | \u001b[0m901.6    \u001b[0m | \u001b[0m1.0      \u001b[0m |\n",
            "| \u001b[0m63       \u001b[0m | \u001b[0m-0.007291\u001b[0m | \u001b[0m0.8423   \u001b[0m | \u001b[0m0.07919  \u001b[0m | \u001b[0m0.3524   \u001b[0m | \u001b[0m3.425    \u001b[0m | \u001b[0m533.6    \u001b[0m | \u001b[0m0.8553   \u001b[0m |\n",
            "| \u001b[0m64       \u001b[0m | \u001b[0m-0.02921 \u001b[0m | \u001b[0m0.7837   \u001b[0m | \u001b[0m4.831    \u001b[0m | \u001b[0m0.2967   \u001b[0m | \u001b[0m3.224    \u001b[0m | \u001b[0m877.3    \u001b[0m | \u001b[0m0.5421   \u001b[0m |\n",
            "| \u001b[0m65       \u001b[0m | \u001b[0m-0.02251 \u001b[0m | \u001b[0m0.8685   \u001b[0m | \u001b[0m4.648    \u001b[0m | \u001b[0m0.1634   \u001b[0m | \u001b[0m3.617    \u001b[0m | \u001b[0m951.3    \u001b[0m | \u001b[0m0.799    \u001b[0m |\n",
            "| \u001b[0m66       \u001b[0m | \u001b[0m-0.02355 \u001b[0m | \u001b[0m0.7409   \u001b[0m | \u001b[0m4.985    \u001b[0m | \u001b[0m0.1437   \u001b[0m | \u001b[0m3.506    \u001b[0m | \u001b[0m76.62    \u001b[0m | \u001b[0m0.6574   \u001b[0m |\n",
            "| \u001b[0m67       \u001b[0m | \u001b[0m-171.4   \u001b[0m | \u001b[0m1.0      \u001b[0m | \u001b[0m5.0      \u001b[0m | \u001b[0m0.0001   \u001b[0m | \u001b[0m3.0      \u001b[0m | \u001b[0m210.6    \u001b[0m | \u001b[0m0.5      \u001b[0m |\n",
            "| \u001b[0m68       \u001b[0m | \u001b[0m-0.01033 \u001b[0m | \u001b[0m0.6836   \u001b[0m | \u001b[0m0.5005   \u001b[0m | \u001b[0m0.1263   \u001b[0m | \u001b[0m9.958    \u001b[0m | \u001b[0m190.4    \u001b[0m | \u001b[0m0.7526   \u001b[0m |\n",
            "| \u001b[0m69       \u001b[0m | \u001b[0m-174.1   \u001b[0m | \u001b[0m0.5      \u001b[0m | \u001b[0m5.0      \u001b[0m | \u001b[0m0.0001   \u001b[0m | \u001b[0m10.0     \u001b[0m | \u001b[0m131.6    \u001b[0m | \u001b[0m1.0      \u001b[0m |\n",
            "| \u001b[0m70       \u001b[0m | \u001b[0m-0.01008 \u001b[0m | \u001b[0m0.5858   \u001b[0m | \u001b[0m0.4188   \u001b[0m | \u001b[0m0.09936  \u001b[0m | \u001b[0m3.85     \u001b[0m | \u001b[0m113.7    \u001b[0m | \u001b[0m0.9156   \u001b[0m |\n",
            "| \u001b[0m71       \u001b[0m | \u001b[0m-0.01239 \u001b[0m | \u001b[0m0.5821   \u001b[0m | \u001b[0m0.7487   \u001b[0m | \u001b[0m0.2299   \u001b[0m | \u001b[0m9.531    \u001b[0m | \u001b[0m177.8    \u001b[0m | \u001b[0m0.7337   \u001b[0m |\n",
            "| \u001b[0m72       \u001b[0m | \u001b[0m-0.008158\u001b[0m | \u001b[0m0.8701   \u001b[0m | \u001b[0m0.1429   \u001b[0m | \u001b[0m0.2371   \u001b[0m | \u001b[0m9.68     \u001b[0m | \u001b[0m226.8    \u001b[0m | \u001b[0m0.8605   \u001b[0m |\n",
            "| \u001b[0m73       \u001b[0m | \u001b[0m-0.02076 \u001b[0m | \u001b[0m0.5319   \u001b[0m | \u001b[0m4.798    \u001b[0m | \u001b[0m0.09987  \u001b[0m | \u001b[0m3.038    \u001b[0m | \u001b[0m364.4    \u001b[0m | \u001b[0m0.8648   \u001b[0m |\n",
            "| \u001b[0m74       \u001b[0m | \u001b[0m-0.00918 \u001b[0m | \u001b[0m0.8724   \u001b[0m | \u001b[0m0.2843   \u001b[0m | \u001b[0m0.2056   \u001b[0m | \u001b[0m3.189    \u001b[0m | \u001b[0m660.6    \u001b[0m | \u001b[0m0.7458   \u001b[0m |\n",
            "| \u001b[0m75       \u001b[0m | \u001b[0m-0.02396 \u001b[0m | \u001b[0m0.5571   \u001b[0m | \u001b[0m4.835    \u001b[0m | \u001b[0m0.1622   \u001b[0m | \u001b[0m3.542    \u001b[0m | \u001b[0m315.8    \u001b[0m | \u001b[0m0.5801   \u001b[0m |\n",
            "| \u001b[0m76       \u001b[0m | \u001b[0m-0.00846 \u001b[0m | \u001b[0m0.731    \u001b[0m | \u001b[0m0.1037   \u001b[0m | \u001b[0m0.3866   \u001b[0m | \u001b[0m3.555    \u001b[0m | \u001b[0m272.7    \u001b[0m | \u001b[0m0.97     \u001b[0m |\n",
            "| \u001b[0m77       \u001b[0m | \u001b[0m-0.0113  \u001b[0m | \u001b[0m1.0      \u001b[0m | \u001b[0m0.0      \u001b[0m | \u001b[0m0.4      \u001b[0m | \u001b[0m10.0     \u001b[0m | \u001b[0m856.9    \u001b[0m | \u001b[0m0.5      \u001b[0m |\n",
            "| \u001b[0m78       \u001b[0m | \u001b[0m-0.02508 \u001b[0m | \u001b[0m0.5779   \u001b[0m | \u001b[0m2.625    \u001b[0m | \u001b[0m0.3107   \u001b[0m | \u001b[0m3.146    \u001b[0m | \u001b[0m725.7    \u001b[0m | \u001b[0m0.6231   \u001b[0m |\n",
            "| \u001b[0m79       \u001b[0m | \u001b[0m-163.2   \u001b[0m | \u001b[0m1.0      \u001b[0m | \u001b[0m0.0      \u001b[0m | \u001b[0m0.0001   \u001b[0m | \u001b[0m3.0      \u001b[0m | \u001b[0m457.2    \u001b[0m | \u001b[0m0.5      \u001b[0m |\n",
            "| \u001b[0m80       \u001b[0m | \u001b[0m-0.0314  \u001b[0m | \u001b[0m0.5586   \u001b[0m | \u001b[0m4.224    \u001b[0m | \u001b[0m0.3633   \u001b[0m | \u001b[0m9.766    \u001b[0m | \u001b[0m477.3    \u001b[0m | \u001b[0m0.6396   \u001b[0m |\n",
            "| \u001b[0m81       \u001b[0m | \u001b[0m-161.5   \u001b[0m | \u001b[0m0.5      \u001b[0m | \u001b[0m5.0      \u001b[0m | \u001b[0m0.0001   \u001b[0m | \u001b[0m10.0     \u001b[0m | \u001b[0m509.1    \u001b[0m | \u001b[0m0.5      \u001b[0m |\n",
            "| \u001b[0m82       \u001b[0m | \u001b[0m-0.02341 \u001b[0m | \u001b[0m0.6335   \u001b[0m | \u001b[0m4.992    \u001b[0m | \u001b[0m0.1707   \u001b[0m | \u001b[0m3.023    \u001b[0m | \u001b[0m852.3    \u001b[0m | \u001b[0m0.6807   \u001b[0m |\n",
            "| \u001b[0m83       \u001b[0m | \u001b[0m-0.009687\u001b[0m | \u001b[0m0.5012   \u001b[0m | \u001b[0m0.2834   \u001b[0m | \u001b[0m0.1925   \u001b[0m | \u001b[0m3.473    \u001b[0m | \u001b[0m493.1    \u001b[0m | \u001b[0m0.5176   \u001b[0m |\n",
            "| \u001b[0m84       \u001b[0m | \u001b[0m-0.02427 \u001b[0m | \u001b[0m0.6475   \u001b[0m | \u001b[0m4.227    \u001b[0m | \u001b[0m0.2162   \u001b[0m | \u001b[0m9.866    \u001b[0m | \u001b[0m1.005e+03\u001b[0m | \u001b[0m0.5494   \u001b[0m |\n",
            "| \u001b[0m85       \u001b[0m | \u001b[0m-0.0228  \u001b[0m | \u001b[0m0.5517   \u001b[0m | \u001b[0m0.123    \u001b[0m | \u001b[0m0.006739 \u001b[0m | \u001b[0m9.969    \u001b[0m | \u001b[0m706.3    \u001b[0m | \u001b[0m0.5092   \u001b[0m |\n",
            "| \u001b[0m86       \u001b[0m | \u001b[0m-0.02933 \u001b[0m | \u001b[0m1.0      \u001b[0m | \u001b[0m5.0      \u001b[0m | \u001b[0m0.4      \u001b[0m | \u001b[0m10.0     \u001b[0m | \u001b[0m539.4    \u001b[0m | \u001b[0m1.0      \u001b[0m |\n",
            "| \u001b[0m87       \u001b[0m | \u001b[0m-0.02947 \u001b[0m | \u001b[0m0.8734   \u001b[0m | \u001b[0m4.062    \u001b[0m | \u001b[0m0.3235   \u001b[0m | \u001b[0m3.232    \u001b[0m | \u001b[0m158.3    \u001b[0m | \u001b[0m0.5381   \u001b[0m |\n",
            "| \u001b[0m88       \u001b[0m | \u001b[0m-0.02259 \u001b[0m | \u001b[0m0.7879   \u001b[0m | \u001b[0m4.5      \u001b[0m | \u001b[0m0.1622   \u001b[0m | \u001b[0m3.024    \u001b[0m | \u001b[0m376.5    \u001b[0m | \u001b[0m0.6082   \u001b[0m |\n",
            "| \u001b[0m89       \u001b[0m | \u001b[0m-0.01013 \u001b[0m | \u001b[0m0.7186   \u001b[0m | \u001b[0m0.3309   \u001b[0m | \u001b[0m0.1515   \u001b[0m | \u001b[0m3.99     \u001b[0m | \u001b[0m645.8    \u001b[0m | \u001b[0m0.6553   \u001b[0m |\n",
            "| \u001b[0m90       \u001b[0m | \u001b[0m-0.0246  \u001b[0m | \u001b[0m0.5831   \u001b[0m | \u001b[0m3.696    \u001b[0m | \u001b[0m0.2712   \u001b[0m | \u001b[0m3.559    \u001b[0m | \u001b[0m777.0    \u001b[0m | \u001b[0m0.5466   \u001b[0m |\n",
            "| \u001b[0m91       \u001b[0m | \u001b[0m-0.03013 \u001b[0m | \u001b[0m0.6148   \u001b[0m | \u001b[0m4.657    \u001b[0m | \u001b[0m0.3614   \u001b[0m | \u001b[0m9.756    \u001b[0m | \u001b[0m396.7    \u001b[0m | \u001b[0m0.6907   \u001b[0m |\n",
            "| \u001b[0m92       \u001b[0m | \u001b[0m-0.02595 \u001b[0m | \u001b[0m0.7552   \u001b[0m | \u001b[0m4.531    \u001b[0m | \u001b[0m0.2932   \u001b[0m | \u001b[0m9.533    \u001b[0m | \u001b[0m410.3    \u001b[0m | \u001b[0m0.8333   \u001b[0m |\n",
            "| \u001b[0m93       \u001b[0m | \u001b[0m-147.0   \u001b[0m | \u001b[0m1.0      \u001b[0m | \u001b[0m0.0      \u001b[0m | \u001b[0m0.0001   \u001b[0m | \u001b[0m10.0     \u001b[0m | \u001b[0m983.2    \u001b[0m | \u001b[0m1.0      \u001b[0m |\n",
            "| \u001b[0m94       \u001b[0m | \u001b[0m-0.02116 \u001b[0m | \u001b[0m0.7511   \u001b[0m | \u001b[0m1.701    \u001b[0m | \u001b[0m0.3264   \u001b[0m | \u001b[0m3.344    \u001b[0m | \u001b[0m1.001e+03\u001b[0m | \u001b[0m0.6737   \u001b[0m |\n",
            "| \u001b[0m95       \u001b[0m | \u001b[0m-0.005893\u001b[0m | \u001b[0m0.5      \u001b[0m | \u001b[0m0.0      \u001b[0m | \u001b[0m0.4      \u001b[0m | \u001b[0m3.0      \u001b[0m | \u001b[0m523.6    \u001b[0m | \u001b[0m0.5      \u001b[0m |\n",
            "| \u001b[0m96       \u001b[0m | \u001b[0m-0.03059 \u001b[0m | \u001b[0m0.5299   \u001b[0m | \u001b[0m4.567    \u001b[0m | \u001b[0m0.325    \u001b[0m | \u001b[0m9.944    \u001b[0m | \u001b[0m251.9    \u001b[0m | \u001b[0m0.5434   \u001b[0m |\n",
            "| \u001b[0m97       \u001b[0m | \u001b[0m-169.7   \u001b[0m | \u001b[0m0.5      \u001b[0m | \u001b[0m0.0      \u001b[0m | \u001b[0m0.0001   \u001b[0m | \u001b[0m3.0      \u001b[0m | \u001b[0m260.3    \u001b[0m | \u001b[0m1.0      \u001b[0m |\n",
            "| \u001b[0m98       \u001b[0m | \u001b[0m-0.01259 \u001b[0m | \u001b[0m1.0      \u001b[0m | \u001b[0m0.5067   \u001b[0m | \u001b[0m0.4      \u001b[0m | \u001b[0m8.35     \u001b[0m | \u001b[0m243.8    \u001b[0m | \u001b[0m0.8313   \u001b[0m |\n",
            "| \u001b[0m99       \u001b[0m | \u001b[0m-0.01986 \u001b[0m | \u001b[0m0.5751   \u001b[0m | \u001b[0m3.264    \u001b[0m | \u001b[0m0.03992  \u001b[0m | \u001b[0m9.912    \u001b[0m | \u001b[0m273.4    \u001b[0m | \u001b[0m0.5435   \u001b[0m |\n",
            "| \u001b[0m100      \u001b[0m | \u001b[0m-150.4   \u001b[0m | \u001b[0m1.0      \u001b[0m | \u001b[0m5.0      \u001b[0m | \u001b[0m0.0001   \u001b[0m | \u001b[0m10.0     \u001b[0m | \u001b[0m869.4    \u001b[0m | \u001b[0m0.5      \u001b[0m |\n",
            "| \u001b[0m101      \u001b[0m | \u001b[0m-0.01715 \u001b[0m | \u001b[0m0.5635   \u001b[0m | \u001b[0m1.232    \u001b[0m | \u001b[0m0.4      \u001b[0m | \u001b[0m4.658    \u001b[0m | \u001b[0m884.2    \u001b[0m | \u001b[0m0.8881   \u001b[0m |\n",
            "| \u001b[0m102      \u001b[0m | \u001b[0m-0.02789 \u001b[0m | \u001b[0m0.5019   \u001b[0m | \u001b[0m4.834    \u001b[0m | \u001b[0m0.3144   \u001b[0m | \u001b[0m3.211    \u001b[0m | \u001b[0m85.74    \u001b[0m | \u001b[0m0.7923   \u001b[0m |\n",
            "| \u001b[0m103      \u001b[0m | \u001b[0m-0.02221 \u001b[0m | \u001b[0m0.8443   \u001b[0m | \u001b[0m4.238    \u001b[0m | \u001b[0m0.2034   \u001b[0m | \u001b[0m3.013    \u001b[0m | \u001b[0m707.3    \u001b[0m | \u001b[0m0.8331   \u001b[0m |\n",
            "| \u001b[0m104      \u001b[0m | \u001b[0m-175.4   \u001b[0m | \u001b[0m0.5      \u001b[0m | \u001b[0m0.0      \u001b[0m | \u001b[0m0.0001   \u001b[0m | \u001b[0m10.0     \u001b[0m | \u001b[0m94.61    \u001b[0m | \u001b[0m0.5      \u001b[0m |\n",
            "| \u001b[0m105      \u001b[0m | \u001b[0m-0.01169 \u001b[0m | \u001b[0m0.6694   \u001b[0m | \u001b[0m0.3493   \u001b[0m | \u001b[0m0.3575   \u001b[0m | \u001b[0m9.482    \u001b[0m | \u001b[0m77.07    \u001b[0m | \u001b[0m0.911    \u001b[0m |\n",
            "| \u001b[0m106      \u001b[0m | \u001b[0m-0.0343  \u001b[0m | \u001b[0m0.5      \u001b[0m | \u001b[0m4.778    \u001b[0m | \u001b[0m0.4      \u001b[0m | \u001b[0m3.317    \u001b[0m | \u001b[0m484.3    \u001b[0m | \u001b[0m0.5      \u001b[0m |\n",
            "| \u001b[0m107      \u001b[0m | \u001b[0m-0.02513 \u001b[0m | \u001b[0m0.6804   \u001b[0m | \u001b[0m5.0      \u001b[0m | \u001b[0m0.2286   \u001b[0m | \u001b[0m9.957    \u001b[0m | \u001b[0m662.6    \u001b[0m | \u001b[0m0.622    \u001b[0m |\n",
            "| \u001b[0m108      \u001b[0m | \u001b[0m-0.008404\u001b[0m | \u001b[0m0.6393   \u001b[0m | \u001b[0m0.1594   \u001b[0m | \u001b[0m0.3215   \u001b[0m | \u001b[0m9.802    \u001b[0m | \u001b[0m331.0    \u001b[0m | \u001b[0m0.686    \u001b[0m |\n",
            "| \u001b[0m109      \u001b[0m | \u001b[0m-0.02653 \u001b[0m | \u001b[0m0.9361   \u001b[0m | \u001b[0m4.834    \u001b[0m | \u001b[0m0.3274   \u001b[0m | \u001b[0m9.435    \u001b[0m | \u001b[0m1.015e+03\u001b[0m | \u001b[0m0.8908   \u001b[0m |\n",
            "| \u001b[0m110      \u001b[0m | \u001b[0m-0.02547 \u001b[0m | \u001b[0m0.8888   \u001b[0m | \u001b[0m4.558    \u001b[0m | \u001b[0m0.1755   \u001b[0m | \u001b[0m3.369    \u001b[0m | \u001b[0m173.2    \u001b[0m | \u001b[0m0.5065   \u001b[0m |\n",
            "| \u001b[0m111      \u001b[0m | \u001b[0m-0.03218 \u001b[0m | \u001b[0m1.0      \u001b[0m | \u001b[0m5.0      \u001b[0m | \u001b[0m0.4      \u001b[0m | \u001b[0m3.0      \u001b[0m | \u001b[0m106.3    \u001b[0m | \u001b[0m1.0      \u001b[0m |\n",
            "| \u001b[0m112      \u001b[0m | \u001b[0m-0.01992 \u001b[0m | \u001b[0m0.635    \u001b[0m | \u001b[0m4.371    \u001b[0m | \u001b[0m0.09901  \u001b[0m | \u001b[0m3.199    \u001b[0m | \u001b[0m840.4    \u001b[0m | \u001b[0m0.987    \u001b[0m |\n",
            "| \u001b[0m113      \u001b[0m | \u001b[0m-0.007164\u001b[0m | \u001b[0m0.9499   \u001b[0m | \u001b[0m0.1373   \u001b[0m | \u001b[0m0.1454   \u001b[0m | \u001b[0m9.501    \u001b[0m | \u001b[0m835.3    \u001b[0m | \u001b[0m0.5982   \u001b[0m |\n",
            "| \u001b[0m114      \u001b[0m | \u001b[0m-0.008173\u001b[0m | \u001b[0m0.5808   \u001b[0m | \u001b[0m0.1894   \u001b[0m | \u001b[0m0.2071   \u001b[0m | \u001b[0m9.888    \u001b[0m | \u001b[0m360.6    \u001b[0m | \u001b[0m0.9257   \u001b[0m |\n",
            "| \u001b[0m115      \u001b[0m | \u001b[0m-0.03511 \u001b[0m | \u001b[0m0.5      \u001b[0m | \u001b[0m5.0      \u001b[0m | \u001b[0m0.4      \u001b[0m | \u001b[0m10.0     \u001b[0m | \u001b[0m692.8    \u001b[0m | \u001b[0m0.5      \u001b[0m |\n",
            "| \u001b[0m116      \u001b[0m | \u001b[0m-0.02996 \u001b[0m | \u001b[0m0.8258   \u001b[0m | \u001b[0m4.98     \u001b[0m | \u001b[0m0.3474   \u001b[0m | \u001b[0m3.015    \u001b[0m | \u001b[0m681.8    \u001b[0m | \u001b[0m0.7159   \u001b[0m |\n",
            "| \u001b[0m117      \u001b[0m | \u001b[0m-145.9   \u001b[0m | \u001b[0m0.5      \u001b[0m | \u001b[0m0.0      \u001b[0m | \u001b[0m0.0001   \u001b[0m | \u001b[0m3.0      \u001b[0m | \u001b[0m1.02e+03 \u001b[0m | \u001b[0m0.5      \u001b[0m |\n",
            "| \u001b[0m118      \u001b[0m | \u001b[0m-0.01495 \u001b[0m | \u001b[0m0.7139   \u001b[0m | \u001b[0m0.8466   \u001b[0m | \u001b[0m0.3183   \u001b[0m | \u001b[0m3.848    \u001b[0m | \u001b[0m689.3    \u001b[0m | \u001b[0m0.5072   \u001b[0m |\n",
            "| \u001b[0m119      \u001b[0m | \u001b[0m-155.0   \u001b[0m | \u001b[0m1.0      \u001b[0m | \u001b[0m0.0      \u001b[0m | \u001b[0m0.0001   \u001b[0m | \u001b[0m3.0      \u001b[0m | \u001b[0m716.4    \u001b[0m | \u001b[0m1.0      \u001b[0m |\n",
            "| \u001b[0m120      \u001b[0m | \u001b[0m-0.02333 \u001b[0m | \u001b[0m0.8943   \u001b[0m | \u001b[0m4.17     \u001b[0m | \u001b[0m0.2311   \u001b[0m | \u001b[0m8.876    \u001b[0m | \u001b[0m701.1    \u001b[0m | \u001b[0m0.6787   \u001b[0m |\n",
            "| \u001b[0m121      \u001b[0m | \u001b[0m-177.9   \u001b[0m | \u001b[0m1.0      \u001b[0m | \u001b[0m1.791    \u001b[0m | \u001b[0m0.0001   \u001b[0m | \u001b[0m10.0     \u001b[0m | \u001b[0m24.06    \u001b[0m | \u001b[0m0.5      \u001b[0m |\n",
            "| \u001b[0m122      \u001b[0m | \u001b[0m-175.9   \u001b[0m | \u001b[0m0.5      \u001b[0m | \u001b[0m0.0      \u001b[0m | \u001b[0m0.0001   \u001b[0m | \u001b[0m4.211    \u001b[0m | \u001b[0m81.14    \u001b[0m | \u001b[0m0.5      \u001b[0m |\n",
            "| \u001b[0m123      \u001b[0m | \u001b[0m-0.01645 \u001b[0m | \u001b[0m0.7412   \u001b[0m | \u001b[0m2.811    \u001b[0m | \u001b[0m0.08511  \u001b[0m | \u001b[0m6.834    \u001b[0m | \u001b[0m705.1    \u001b[0m | \u001b[0m0.7939   \u001b[0m |\n",
            "| \u001b[0m124      \u001b[0m | \u001b[0m-0.0175  \u001b[0m | \u001b[0m0.8266   \u001b[0m | \u001b[0m3.072    \u001b[0m | \u001b[0m0.04498  \u001b[0m | \u001b[0m5.472    \u001b[0m | \u001b[0m693.7    \u001b[0m | \u001b[0m0.8535   \u001b[0m |\n",
            "| \u001b[0m125      \u001b[0m | \u001b[0m-0.0256  \u001b[0m | \u001b[0m0.8764   \u001b[0m | \u001b[0m4.087    \u001b[0m | \u001b[0m0.2133   \u001b[0m | \u001b[0m7.948    \u001b[0m | \u001b[0m687.4    \u001b[0m | \u001b[0m0.5035   \u001b[0m |\n",
            "| \u001b[0m126      \u001b[0m | \u001b[0m-0.02258 \u001b[0m | \u001b[0m0.5812   \u001b[0m | \u001b[0m4.238    \u001b[0m | \u001b[0m0.1056   \u001b[0m | \u001b[0m8.201    \u001b[0m | \u001b[0m72.73    \u001b[0m | \u001b[0m0.6718   \u001b[0m |\n",
            "| \u001b[0m127      \u001b[0m | \u001b[0m-0.02069 \u001b[0m | \u001b[0m0.9864   \u001b[0m | \u001b[0m1.602    \u001b[0m | \u001b[0m0.3406   \u001b[0m | \u001b[0m8.625    \u001b[0m | \u001b[0m483.6    \u001b[0m | \u001b[0m0.6116   \u001b[0m |\n",
            "| \u001b[0m128      \u001b[0m | \u001b[0m-0.01765 \u001b[0m | \u001b[0m0.6894   \u001b[0m | \u001b[0m2.452    \u001b[0m | \u001b[0m0.1764   \u001b[0m | \u001b[0m4.447    \u001b[0m | \u001b[0m857.6    \u001b[0m | \u001b[0m0.8117   \u001b[0m |\n",
            "| \u001b[0m129      \u001b[0m | \u001b[0m-0.01083 \u001b[0m | \u001b[0m0.6073   \u001b[0m | \u001b[0m0.7362   \u001b[0m | \u001b[0m0.01194  \u001b[0m | \u001b[0m6.905    \u001b[0m | \u001b[0m851.4    \u001b[0m | \u001b[0m0.9661   \u001b[0m |\n",
            "| \u001b[0m130      \u001b[0m | \u001b[0m-0.02554 \u001b[0m | \u001b[0m0.6717   \u001b[0m | \u001b[0m3.921    \u001b[0m | \u001b[0m0.319    \u001b[0m | \u001b[0m8.536    \u001b[0m | \u001b[0m403.5    \u001b[0m | \u001b[0m0.7916   \u001b[0m |\n",
            "| \u001b[0m131      \u001b[0m | \u001b[0m-0.02017 \u001b[0m | \u001b[0m0.7956   \u001b[0m | \u001b[0m2.277    \u001b[0m | \u001b[0m0.267    \u001b[0m | \u001b[0m3.424    \u001b[0m | \u001b[0m322.6    \u001b[0m | \u001b[0m0.7991   \u001b[0m |\n",
            "| \u001b[0m132      \u001b[0m | \u001b[0m-0.0188  \u001b[0m | \u001b[0m0.9087   \u001b[0m | \u001b[0m3.839    \u001b[0m | \u001b[0m0.0887   \u001b[0m | \u001b[0m9.354    \u001b[0m | \u001b[0m532.3    \u001b[0m | \u001b[0m0.9772   \u001b[0m |\n",
            "| \u001b[0m133      \u001b[0m | \u001b[0m-160.5   \u001b[0m | \u001b[0m0.5      \u001b[0m | \u001b[0m4.364    \u001b[0m | \u001b[0m0.0001   \u001b[0m | \u001b[0m3.0      \u001b[0m | \u001b[0m539.5    \u001b[0m | \u001b[0m0.5      \u001b[0m |\n",
            "| \u001b[0m134      \u001b[0m | \u001b[0m-0.01127 \u001b[0m | \u001b[0m0.5429   \u001b[0m | \u001b[0m0.3503   \u001b[0m | \u001b[0m0.3214   \u001b[0m | \u001b[0m7.207    \u001b[0m | \u001b[0m528.6    \u001b[0m | \u001b[0m0.5867   \u001b[0m |\n",
            "| \u001b[0m135      \u001b[0m | \u001b[0m-167.5   \u001b[0m | \u001b[0m0.5      \u001b[0m | \u001b[0m4.644    \u001b[0m | \u001b[0m0.0001   \u001b[0m | \u001b[0m8.566    \u001b[0m | \u001b[0m326.1    \u001b[0m | \u001b[0m0.5      \u001b[0m |\n",
            "| \u001b[0m136      \u001b[0m | \u001b[0m-0.02033 \u001b[0m | \u001b[0m0.8576   \u001b[0m | \u001b[0m3.761    \u001b[0m | \u001b[0m0.2319   \u001b[0m | \u001b[0m6.331    \u001b[0m | \u001b[0m480.1    \u001b[0m | \u001b[0m0.9901   \u001b[0m |\n",
            "| \u001b[0m137      \u001b[0m | \u001b[0m-0.01323 \u001b[0m | \u001b[0m0.6704   \u001b[0m | \u001b[0m0.7557   \u001b[0m | \u001b[0m0.272    \u001b[0m | \u001b[0m4.74     \u001b[0m | \u001b[0m487.8    \u001b[0m | \u001b[0m0.793    \u001b[0m |\n",
            "| \u001b[0m138      \u001b[0m | \u001b[0m-0.0135  \u001b[0m | \u001b[0m0.7657   \u001b[0m | \u001b[0m0.5081   \u001b[0m | \u001b[0m0.3822   \u001b[0m | \u001b[0m6.791    \u001b[0m | \u001b[0m317.6    \u001b[0m | \u001b[0m0.5893   \u001b[0m |\n",
            "| \u001b[0m139      \u001b[0m | \u001b[0m-0.01014 \u001b[0m | \u001b[0m0.8867   \u001b[0m | \u001b[0m0.3172   \u001b[0m | \u001b[0m0.2704   \u001b[0m | \u001b[0m5.014    \u001b[0m | \u001b[0m334.0    \u001b[0m | \u001b[0m0.799    \u001b[0m |\n",
            "| \u001b[0m140      \u001b[0m | \u001b[0m-0.02223 \u001b[0m | \u001b[0m0.8104   \u001b[0m | \u001b[0m3.637    \u001b[0m | \u001b[0m0.2329   \u001b[0m | \u001b[0m4.541    \u001b[0m | \u001b[0m846.3    \u001b[0m | \u001b[0m0.7176   \u001b[0m |\n",
            "| \u001b[0m141      \u001b[0m | \u001b[0m-0.02421 \u001b[0m | \u001b[0m0.999    \u001b[0m | \u001b[0m4.475    \u001b[0m | \u001b[0m0.2703   \u001b[0m | \u001b[0m3.437    \u001b[0m | \u001b[0m528.4    \u001b[0m | \u001b[0m0.9957   \u001b[0m |\n",
            "| \u001b[0m142      \u001b[0m | \u001b[0m-0.02148 \u001b[0m | \u001b[0m0.5045   \u001b[0m | \u001b[0m4.719    \u001b[0m | \u001b[0m0.07584  \u001b[0m | \u001b[0m4.877    \u001b[0m | \u001b[0m1.008e+03\u001b[0m | \u001b[0m0.736    \u001b[0m |\n",
            "| \u001b[0m143      \u001b[0m | \u001b[0m-0.01379 \u001b[0m | \u001b[0m1.0      \u001b[0m | \u001b[0m0.4421   \u001b[0m | \u001b[0m0.4      \u001b[0m | \u001b[0m9.315    \u001b[0m | \u001b[0m1.009e+03\u001b[0m | \u001b[0m1.0      \u001b[0m |\n",
            "| \u001b[0m144      \u001b[0m | \u001b[0m-0.0217  \u001b[0m | \u001b[0m0.8659   \u001b[0m | \u001b[0m2.239    \u001b[0m | \u001b[0m0.3191   \u001b[0m | \u001b[0m3.759    \u001b[0m | \u001b[0m370.6    \u001b[0m | \u001b[0m0.6807   \u001b[0m |\n",
            "| \u001b[0m145      \u001b[0m | \u001b[0m-0.02158 \u001b[0m | \u001b[0m0.6661   \u001b[0m | \u001b[0m3.876    \u001b[0m | \u001b[0m0.2581   \u001b[0m | \u001b[0m9.747    \u001b[0m | \u001b[0m366.1    \u001b[0m | \u001b[0m0.8745   \u001b[0m |\n",
            "| \u001b[0m146      \u001b[0m | \u001b[0m-0.01016 \u001b[0m | \u001b[0m0.6826   \u001b[0m | \u001b[0m0.2094   \u001b[0m | \u001b[0m0.2688   \u001b[0m | \u001b[0m4.338    \u001b[0m | \u001b[0m552.2    \u001b[0m | \u001b[0m0.9941   \u001b[0m |\n",
            "| \u001b[0m147      \u001b[0m | \u001b[0m-0.01611 \u001b[0m | \u001b[0m0.9163   \u001b[0m | \u001b[0m1.567    \u001b[0m | \u001b[0m0.2473   \u001b[0m | \u001b[0m9.712    \u001b[0m | \u001b[0m548.5    \u001b[0m | \u001b[0m0.7375   \u001b[0m |\n",
            "| \u001b[0m148      \u001b[0m | \u001b[0m-0.02863 \u001b[0m | \u001b[0m1.0      \u001b[0m | \u001b[0m4.32     \u001b[0m | \u001b[0m0.4      \u001b[0m | \u001b[0m8.693    \u001b[0m | \u001b[0m110.5    \u001b[0m | \u001b[0m1.0      \u001b[0m |\n",
            "| \u001b[0m149      \u001b[0m | \u001b[0m-0.009129\u001b[0m | \u001b[0m0.8444   \u001b[0m | \u001b[0m0.2526   \u001b[0m | \u001b[0m0.1391   \u001b[0m | \u001b[0m3.915    \u001b[0m | \u001b[0m653.7    \u001b[0m | \u001b[0m0.8875   \u001b[0m |\n",
            "| \u001b[0m150      \u001b[0m | \u001b[0m-0.0263  \u001b[0m | \u001b[0m0.5105   \u001b[0m | \u001b[0m4.084    \u001b[0m | \u001b[0m0.2908   \u001b[0m | \u001b[0m9.33     \u001b[0m | \u001b[0m184.3    \u001b[0m | \u001b[0m0.5117   \u001b[0m |\n",
            "| \u001b[0m151      \u001b[0m | \u001b[0m-170.2   \u001b[0m | \u001b[0m0.5      \u001b[0m | \u001b[0m5.0      \u001b[0m | \u001b[0m0.0001   \u001b[0m | \u001b[0m4.052    \u001b[0m | \u001b[0m246.0    \u001b[0m | \u001b[0m0.5      \u001b[0m |\n",
            "| \u001b[0m152      \u001b[0m | \u001b[0m-0.01094 \u001b[0m | \u001b[0m0.8851   \u001b[0m | \u001b[0m0.7704   \u001b[0m | \u001b[0m0.05392  \u001b[0m | \u001b[0m9.713    \u001b[0m | \u001b[0m658.4    \u001b[0m | \u001b[0m0.9959   \u001b[0m |\n",
            "| \u001b[0m153      \u001b[0m | \u001b[0m-0.03511 \u001b[0m | \u001b[0m1.0      \u001b[0m | \u001b[0m5.0      \u001b[0m | \u001b[0m0.4      \u001b[0m | \u001b[0m6.457    \u001b[0m | \u001b[0m358.8    \u001b[0m | \u001b[0m0.5      \u001b[0m |\n",
            "| \u001b[0m154      \u001b[0m | \u001b[0m-0.01283 \u001b[0m | \u001b[0m0.7468   \u001b[0m | \u001b[0m0.5527   \u001b[0m | \u001b[0m0.1855   \u001b[0m | \u001b[0m3.157    \u001b[0m | \u001b[0m178.2    \u001b[0m | \u001b[0m0.6526   \u001b[0m |\n",
            "| \u001b[0m155      \u001b[0m | \u001b[0m-0.02452 \u001b[0m | \u001b[0m0.6101   \u001b[0m | \u001b[0m2.356    \u001b[0m | \u001b[0m0.3766   \u001b[0m | \u001b[0m3.677    \u001b[0m | \u001b[0m396.2    \u001b[0m | \u001b[0m0.6433   \u001b[0m |\n",
            "| \u001b[0m156      \u001b[0m | \u001b[0m-0.01904 \u001b[0m | \u001b[0m0.6662   \u001b[0m | \u001b[0m3.07     \u001b[0m | \u001b[0m0.159    \u001b[0m | \u001b[0m8.173    \u001b[0m | \u001b[0m677.8    \u001b[0m | \u001b[0m0.6831   \u001b[0m |\n",
            "| \u001b[0m157      \u001b[0m | \u001b[0m-0.02933 \u001b[0m | \u001b[0m1.0      \u001b[0m | \u001b[0m5.0      \u001b[0m | \u001b[0m0.4      \u001b[0m | \u001b[0m9.929    \u001b[0m | \u001b[0m840.0    \u001b[0m | \u001b[0m1.0      \u001b[0m |\n",
            "| \u001b[0m158      \u001b[0m | \u001b[0m-0.01672 \u001b[0m | \u001b[0m0.9926   \u001b[0m | \u001b[0m2.075    \u001b[0m | \u001b[0m0.2083   \u001b[0m | \u001b[0m3.625    \u001b[0m | \u001b[0m165.7    \u001b[0m | \u001b[0m0.8735   \u001b[0m |\n",
            "| \u001b[0m159      \u001b[0m | \u001b[0m-0.02759 \u001b[0m | \u001b[0m0.8527   \u001b[0m | \u001b[0m4.459    \u001b[0m | \u001b[0m0.3366   \u001b[0m | \u001b[0m5.155    \u001b[0m | \u001b[0m472.0    \u001b[0m | \u001b[0m1.0      \u001b[0m |\n",
            "| \u001b[0m160      \u001b[0m | \u001b[0m-0.007325\u001b[0m | \u001b[0m0.8653   \u001b[0m | \u001b[0m0.07523  \u001b[0m | \u001b[0m0.1884   \u001b[0m | \u001b[0m7.132    \u001b[0m | \u001b[0m171.5    \u001b[0m | \u001b[0m0.5517   \u001b[0m |\n",
            "| \u001b[0m161      \u001b[0m | \u001b[0m-0.0108  \u001b[0m | \u001b[0m0.6837   \u001b[0m | \u001b[0m0.5584   \u001b[0m | \u001b[0m0.2061   \u001b[0m | \u001b[0m9.346    \u001b[0m | \u001b[0m160.8    \u001b[0m | \u001b[0m0.8707   \u001b[0m |\n",
            "| \u001b[0m162      \u001b[0m | \u001b[0m-0.008565\u001b[0m | \u001b[0m0.5      \u001b[0m | \u001b[0m0.0      \u001b[0m | \u001b[0m0.4      \u001b[0m | \u001b[0m10.0     \u001b[0m | \u001b[0m471.5    \u001b[0m | \u001b[0m1.0      \u001b[0m |\n",
            "| \u001b[0m163      \u001b[0m | \u001b[0m-0.02117 \u001b[0m | \u001b[0m0.5441   \u001b[0m | \u001b[0m4.453    \u001b[0m | \u001b[0m0.145    \u001b[0m | \u001b[0m9.729    \u001b[0m | \u001b[0m153.8    \u001b[0m | \u001b[0m0.8207   \u001b[0m |\n",
            "| \u001b[0m164      \u001b[0m | \u001b[0m-0.02597 \u001b[0m | \u001b[0m0.7458   \u001b[0m | \u001b[0m4.988    \u001b[0m | \u001b[0m0.2008   \u001b[0m | \u001b[0m3.464    \u001b[0m | \u001b[0m970.8    \u001b[0m | \u001b[0m0.5611   \u001b[0m |\n",
            "| \u001b[0m165      \u001b[0m | \u001b[0m-0.01223 \u001b[0m | \u001b[0m0.7585   \u001b[0m | \u001b[0m0.7322   \u001b[0m | \u001b[0m0.1591   \u001b[0m | \u001b[0m8.429    \u001b[0m | \u001b[0m380.1    \u001b[0m | \u001b[0m0.6302   \u001b[0m |\n",
            "| \u001b[0m166      \u001b[0m | \u001b[0m-0.02933 \u001b[0m | \u001b[0m0.5      \u001b[0m | \u001b[0m5.0      \u001b[0m | \u001b[0m0.4      \u001b[0m | \u001b[0m7.109    \u001b[0m | \u001b[0m195.2    \u001b[0m | \u001b[0m1.0      \u001b[0m |\n",
            "| \u001b[0m167      \u001b[0m | \u001b[0m-0.01362 \u001b[0m | \u001b[0m0.5603   \u001b[0m | \u001b[0m0.9308   \u001b[0m | \u001b[0m0.184    \u001b[0m | \u001b[0m3.48     \u001b[0m | \u001b[0m190.0    \u001b[0m | \u001b[0m0.9375   \u001b[0m |\n",
            "| \u001b[0m168      \u001b[0m | \u001b[0m-0.008565\u001b[0m | \u001b[0m0.5      \u001b[0m | \u001b[0m0.0      \u001b[0m | \u001b[0m0.4      \u001b[0m | \u001b[0m10.0     \u001b[0m | \u001b[0m998.8    \u001b[0m | \u001b[0m1.0      \u001b[0m |\n",
            "| \u001b[0m169      \u001b[0m | \u001b[0m-0.01611 \u001b[0m | \u001b[0m0.8805   \u001b[0m | \u001b[0m1.359    \u001b[0m | \u001b[0m0.1687   \u001b[0m | \u001b[0m3.024    \u001b[0m | \u001b[0m561.4    \u001b[0m | \u001b[0m0.5106   \u001b[0m |\n",
            "| \u001b[0m170      \u001b[0m | \u001b[0m-0.008565\u001b[0m | \u001b[0m0.5      \u001b[0m | \u001b[0m0.0      \u001b[0m | \u001b[0m0.4      \u001b[0m | \u001b[0m10.0     \u001b[0m | \u001b[0m562.2    \u001b[0m | \u001b[0m1.0      \u001b[0m |\n",
            "| \u001b[0m171      \u001b[0m | \u001b[0m-0.03849 \u001b[0m | \u001b[0m1.0      \u001b[0m | \u001b[0m5.0      \u001b[0m | \u001b[0m0.4      \u001b[0m | \u001b[0m3.0      \u001b[0m | \u001b[0m16.0     \u001b[0m | \u001b[0m0.5      \u001b[0m |\n",
            "| \u001b[0m172      \u001b[0m | \u001b[0m-0.01658 \u001b[0m | \u001b[0m0.8845   \u001b[0m | \u001b[0m2.834    \u001b[0m | \u001b[0m0.03508  \u001b[0m | \u001b[0m9.835    \u001b[0m | \u001b[0m298.5    \u001b[0m | \u001b[0m0.8613   \u001b[0m |\n",
            "| \u001b[0m173      \u001b[0m | \u001b[0m-0.01397 \u001b[0m | \u001b[0m0.5247   \u001b[0m | \u001b[0m1.21     \u001b[0m | \u001b[0m0.1057   \u001b[0m | \u001b[0m8.32     \u001b[0m | \u001b[0m290.4    \u001b[0m | \u001b[0m0.563    \u001b[0m |\n",
            "| \u001b[0m174      \u001b[0m | \u001b[0m-0.03218 \u001b[0m | \u001b[0m1.0      \u001b[0m | \u001b[0m5.0      \u001b[0m | \u001b[0m0.4      \u001b[0m | \u001b[0m3.0      \u001b[0m | \u001b[0m68.8     \u001b[0m | \u001b[0m1.0      \u001b[0m |\n",
            "| \u001b[0m175      \u001b[0m | \u001b[0m-0.02455 \u001b[0m | \u001b[0m0.8329   \u001b[0m | \u001b[0m4.319    \u001b[0m | \u001b[0m0.2763   \u001b[0m | \u001b[0m8.846    \u001b[0m | \u001b[0m957.5    \u001b[0m | \u001b[0m0.7319   \u001b[0m |\n",
            "| \u001b[0m176      \u001b[0m | \u001b[0m-0.03451 \u001b[0m | \u001b[0m0.5      \u001b[0m | \u001b[0m5.0      \u001b[0m | \u001b[0m0.4      \u001b[0m | \u001b[0m3.0      \u001b[0m | \u001b[0m732.5    \u001b[0m | \u001b[0m0.5      \u001b[0m |\n",
            "| \u001b[0m177      \u001b[0m | \u001b[0m-0.03513 \u001b[0m | \u001b[0m0.5      \u001b[0m | \u001b[0m5.0      \u001b[0m | \u001b[0m0.4      \u001b[0m | \u001b[0m9.853    \u001b[0m | \u001b[0m728.4    \u001b[0m | \u001b[0m0.5      \u001b[0m |\n",
            "| \u001b[0m178      \u001b[0m | \u001b[0m-0.006177\u001b[0m | \u001b[0m0.5643   \u001b[0m | \u001b[0m0.01028  \u001b[0m | \u001b[0m0.02566  \u001b[0m | \u001b[0m3.188    \u001b[0m | \u001b[0m957.0    \u001b[0m | \u001b[0m0.9036   \u001b[0m |\n",
            "| \u001b[0m179      \u001b[0m | \u001b[0m-0.02963 \u001b[0m | \u001b[0m0.9911   \u001b[0m | \u001b[0m4.819    \u001b[0m | \u001b[0m0.3504   \u001b[0m | \u001b[0m3.143    \u001b[0m | \u001b[0m341.5    \u001b[0m | \u001b[0m0.646    \u001b[0m |\n",
            "| \u001b[0m180      \u001b[0m | \u001b[0m-0.0125  \u001b[0m | \u001b[0m0.6316   \u001b[0m | \u001b[0m0.8179   \u001b[0m | \u001b[0m0.2591   \u001b[0m | \u001b[0m9.754    \u001b[0m | \u001b[0m950.1    \u001b[0m | \u001b[0m0.8717   \u001b[0m |\n",
            "| \u001b[0m181      \u001b[0m | \u001b[0m-0.005925\u001b[0m | \u001b[0m0.5      \u001b[0m | \u001b[0m0.0      \u001b[0m | \u001b[0m0.4      \u001b[0m | \u001b[0m3.0      \u001b[0m | \u001b[0m411.5    \u001b[0m | \u001b[0m0.5      \u001b[0m |\n",
            "| \u001b[0m182      \u001b[0m | \u001b[0m-0.02427 \u001b[0m | \u001b[0m0.7258   \u001b[0m | \u001b[0m4.936    \u001b[0m | \u001b[0m0.02626  \u001b[0m | \u001b[0m3.799    \u001b[0m | \u001b[0m229.1    \u001b[0m | \u001b[0m0.6591   \u001b[0m |\n",
            "| \u001b[0m183      \u001b[0m | \u001b[0m-149.9   \u001b[0m | \u001b[0m1.0      \u001b[0m | \u001b[0m5.0      \u001b[0m | \u001b[0m0.0001   \u001b[0m | \u001b[0m10.0     \u001b[0m | \u001b[0m884.2    \u001b[0m | \u001b[0m0.5      \u001b[0m |\n",
            "| \u001b[0m184      \u001b[0m | \u001b[0m-0.005936\u001b[0m | \u001b[0m0.5      \u001b[0m | \u001b[0m0.0      \u001b[0m | \u001b[0m0.4      \u001b[0m | \u001b[0m3.0      \u001b[0m | \u001b[0m674.1    \u001b[0m | \u001b[0m0.5      \u001b[0m |\n",
            "| \u001b[0m185      \u001b[0m | \u001b[0m-0.03511 \u001b[0m | \u001b[0m0.5      \u001b[0m | \u001b[0m5.0      \u001b[0m | \u001b[0m0.4      \u001b[0m | \u001b[0m9.998    \u001b[0m | \u001b[0m346.6    \u001b[0m | \u001b[0m0.5      \u001b[0m |\n",
            "| \u001b[0m186      \u001b[0m | \u001b[0m-0.01053 \u001b[0m | \u001b[0m0.8654   \u001b[0m | \u001b[0m0.343    \u001b[0m | \u001b[0m0.2843   \u001b[0m | \u001b[0m3.852    \u001b[0m | \u001b[0m345.7    \u001b[0m | \u001b[0m0.7942   \u001b[0m |\n",
            "| \u001b[0m187      \u001b[0m | \u001b[0m-0.007009\u001b[0m | \u001b[0m0.7583   \u001b[0m | \u001b[0m0.1424   \u001b[0m | \u001b[0m0.04312  \u001b[0m | \u001b[0m9.927    \u001b[0m | \u001b[0m648.1    \u001b[0m | \u001b[0m0.6665   \u001b[0m |\n",
            "| \u001b[0m188      \u001b[0m | \u001b[0m-0.03218 \u001b[0m | \u001b[0m1.0      \u001b[0m | \u001b[0m5.0      \u001b[0m | \u001b[0m0.4      \u001b[0m | \u001b[0m3.0      \u001b[0m | \u001b[0m302.5    \u001b[0m | \u001b[0m1.0      \u001b[0m |\n",
            "| \u001b[0m189      \u001b[0m | \u001b[0m-0.01508 \u001b[0m | \u001b[0m0.918    \u001b[0m | \u001b[0m2.114    \u001b[0m | \u001b[0m0.01808  \u001b[0m | \u001b[0m9.766    \u001b[0m | \u001b[0m826.9    \u001b[0m | \u001b[0m0.8378   \u001b[0m |\n",
            "| \u001b[0m190      \u001b[0m | \u001b[0m-156.5   \u001b[0m | \u001b[0m1.0      \u001b[0m | \u001b[0m0.0      \u001b[0m | \u001b[0m0.0001   \u001b[0m | \u001b[0m7.696    \u001b[0m | \u001b[0m666.7    \u001b[0m | \u001b[0m1.0      \u001b[0m |\n",
            "| \u001b[0m191      \u001b[0m | \u001b[0m-0.02756 \u001b[0m | \u001b[0m0.6854   \u001b[0m | \u001b[0m4.903    \u001b[0m | \u001b[0m0.2783   \u001b[0m | \u001b[0m3.509    \u001b[0m | \u001b[0m658.4    \u001b[0m | \u001b[0m0.5324   \u001b[0m |\n",
            "| \u001b[0m192      \u001b[0m | \u001b[0m-0.03451 \u001b[0m | \u001b[0m0.5      \u001b[0m | \u001b[0m5.0      \u001b[0m | \u001b[0m0.4      \u001b[0m | \u001b[0m3.0      \u001b[0m | \u001b[0m961.3    \u001b[0m | \u001b[0m0.5      \u001b[0m |\n",
            "| \u001b[0m193      \u001b[0m | \u001b[0m-0.008598\u001b[0m | \u001b[0m0.5      \u001b[0m | \u001b[0m0.0      \u001b[0m | \u001b[0m0.4      \u001b[0m | \u001b[0m6.993    \u001b[0m | \u001b[0m592.7    \u001b[0m | \u001b[0m1.0      \u001b[0m |\n",
            "| \u001b[0m194      \u001b[0m | \u001b[0m-0.008565\u001b[0m | \u001b[0m1.0      \u001b[0m | \u001b[0m0.0      \u001b[0m | \u001b[0m0.4      \u001b[0m | \u001b[0m10.0     \u001b[0m | \u001b[0m279.3    \u001b[0m | \u001b[0m1.0      \u001b[0m |\n",
            "| \u001b[0m195      \u001b[0m | \u001b[0m-0.0272  \u001b[0m | \u001b[0m0.7636   \u001b[0m | \u001b[0m4.988    \u001b[0m | \u001b[0m0.3173   \u001b[0m | \u001b[0m3.288    \u001b[0m | \u001b[0m675.7    \u001b[0m | \u001b[0m0.8736   \u001b[0m |\n",
            "| \u001b[0m196      \u001b[0m | \u001b[0m-0.02217 \u001b[0m | \u001b[0m0.6804   \u001b[0m | \u001b[0m4.989    \u001b[0m | \u001b[0m0.1309   \u001b[0m | \u001b[0m3.251    \u001b[0m | \u001b[0m276.6    \u001b[0m | \u001b[0m0.9611   \u001b[0m |\n",
            "| \u001b[0m197      \u001b[0m | \u001b[0m-0.01155 \u001b[0m | \u001b[0m0.8368   \u001b[0m | \u001b[0m0.3561   \u001b[0m | \u001b[0m0.377    \u001b[0m | \u001b[0m7.396    \u001b[0m | \u001b[0m732.7    \u001b[0m | \u001b[0m0.6902   \u001b[0m |\n",
            "| \u001b[0m198      \u001b[0m | \u001b[0m-151.7   \u001b[0m | \u001b[0m1.0      \u001b[0m | \u001b[0m0.0      \u001b[0m | \u001b[0m0.0001   \u001b[0m | \u001b[0m3.0      \u001b[0m | \u001b[0m824.4    \u001b[0m | \u001b[0m0.5      \u001b[0m |\n",
            "| \u001b[0m199      \u001b[0m | \u001b[0m-0.02112 \u001b[0m | \u001b[0m0.5042   \u001b[0m | \u001b[0m4.911    \u001b[0m | \u001b[0m0.04862  \u001b[0m | \u001b[0m8.735    \u001b[0m | \u001b[0m833.7    \u001b[0m | \u001b[0m0.8584   \u001b[0m |\n",
            "| \u001b[0m200      \u001b[0m | \u001b[0m-0.006407\u001b[0m | \u001b[0m0.5869   \u001b[0m | \u001b[0m0.06411  \u001b[0m | \u001b[0m0.09159  \u001b[0m | \u001b[0m4.5      \u001b[0m | \u001b[0m233.8    \u001b[0m | \u001b[0m0.8684   \u001b[0m |\n",
            "=================================================================================================\n"
          ]
        }
      ]
    },
    {
      "cell_type": "code",
      "source": [
        "optimizer.max"
      ],
      "metadata": {
        "colab": {
          "base_uri": "https://localhost:8080/"
        },
        "id": "92f1OS3rO8Qg",
        "outputId": "61c88be6-f1fc-4688-87df-00b885de5d6a"
      },
      "execution_count": null,
      "outputs": [
        {
          "output_type": "execute_result",
          "data": {
            "text/plain": [
              "{'target': -0.0055692287026295985,\n",
              " 'params': {'colsample_bytree': 0.5,\n",
              "  'gamma': 0.0,\n",
              "  'learning_rate': 0.4,\n",
              "  'max_depth': 3.0,\n",
              "  'n_estimators': 477.8330647221409,\n",
              "  'subsample': 1.0}}"
            ]
          },
          "metadata": {},
          "execution_count": 21
        }
      ]
    },
    {
      "cell_type": "code",
      "source": [
        "params = optimizer.max['params']\n",
        "params['max_depth'] = int(round(params['max_depth']))\n",
        "params['n_estimators'] = int(round(params['n_estimators']))\n",
        "\n",
        "xgb = XGBRegressor(random_state = 333, **params, eval_metric = 'rmse')\n",
        "xgb.fit(x_train, y_train)"
      ],
      "metadata": {
        "colab": {
          "base_uri": "https://localhost:8080/",
          "height": 247
        },
        "id": "m9BSsu2uP65a",
        "outputId": "012fd05a-9d92-4d54-cee9-aa1a8bacc25b"
      },
      "execution_count": null,
      "outputs": [
        {
          "output_type": "execute_result",
          "data": {
            "text/plain": [
              "XGBRegressor(base_score=None, booster=None, callbacks=None,\n",
              "             colsample_bylevel=None, colsample_bynode=None,\n",
              "             colsample_bytree=0.5, early_stopping_rounds=None,\n",
              "             enable_categorical=False, eval_metric='rmse', feature_types=None,\n",
              "             gamma=0.0, gpu_id=None, grow_policy=None, importance_type=None,\n",
              "             interaction_constraints=None, learning_rate=0.4, max_bin=None,\n",
              "             max_cat_threshold=None, max_cat_to_onehot=None,\n",
              "             max_delta_step=None, max_depth=3, max_leaves=None,\n",
              "             min_child_weight=None, missing=nan, monotone_constraints=None,\n",
              "             n_estimators=478, n_jobs=None, num_parallel_tree=None,\n",
              "             predictor=None, random_state=333, ...)"
            ],
            "text/html": [
              "<style>#sk-container-id-1 {color: black;background-color: white;}#sk-container-id-1 pre{padding: 0;}#sk-container-id-1 div.sk-toggleable {background-color: white;}#sk-container-id-1 label.sk-toggleable__label {cursor: pointer;display: block;width: 100%;margin-bottom: 0;padding: 0.3em;box-sizing: border-box;text-align: center;}#sk-container-id-1 label.sk-toggleable__label-arrow:before {content: \"▸\";float: left;margin-right: 0.25em;color: #696969;}#sk-container-id-1 label.sk-toggleable__label-arrow:hover:before {color: black;}#sk-container-id-1 div.sk-estimator:hover label.sk-toggleable__label-arrow:before {color: black;}#sk-container-id-1 div.sk-toggleable__content {max-height: 0;max-width: 0;overflow: hidden;text-align: left;background-color: #f0f8ff;}#sk-container-id-1 div.sk-toggleable__content pre {margin: 0.2em;color: black;border-radius: 0.25em;background-color: #f0f8ff;}#sk-container-id-1 input.sk-toggleable__control:checked~div.sk-toggleable__content {max-height: 200px;max-width: 100%;overflow: auto;}#sk-container-id-1 input.sk-toggleable__control:checked~label.sk-toggleable__label-arrow:before {content: \"▾\";}#sk-container-id-1 div.sk-estimator input.sk-toggleable__control:checked~label.sk-toggleable__label {background-color: #d4ebff;}#sk-container-id-1 div.sk-label input.sk-toggleable__control:checked~label.sk-toggleable__label {background-color: #d4ebff;}#sk-container-id-1 input.sk-hidden--visually {border: 0;clip: rect(1px 1px 1px 1px);clip: rect(1px, 1px, 1px, 1px);height: 1px;margin: -1px;overflow: hidden;padding: 0;position: absolute;width: 1px;}#sk-container-id-1 div.sk-estimator {font-family: monospace;background-color: #f0f8ff;border: 1px dotted black;border-radius: 0.25em;box-sizing: border-box;margin-bottom: 0.5em;}#sk-container-id-1 div.sk-estimator:hover {background-color: #d4ebff;}#sk-container-id-1 div.sk-parallel-item::after {content: \"\";width: 100%;border-bottom: 1px solid gray;flex-grow: 1;}#sk-container-id-1 div.sk-label:hover label.sk-toggleable__label {background-color: #d4ebff;}#sk-container-id-1 div.sk-serial::before {content: \"\";position: absolute;border-left: 1px solid gray;box-sizing: border-box;top: 0;bottom: 0;left: 50%;z-index: 0;}#sk-container-id-1 div.sk-serial {display: flex;flex-direction: column;align-items: center;background-color: white;padding-right: 0.2em;padding-left: 0.2em;position: relative;}#sk-container-id-1 div.sk-item {position: relative;z-index: 1;}#sk-container-id-1 div.sk-parallel {display: flex;align-items: stretch;justify-content: center;background-color: white;position: relative;}#sk-container-id-1 div.sk-item::before, #sk-container-id-1 div.sk-parallel-item::before {content: \"\";position: absolute;border-left: 1px solid gray;box-sizing: border-box;top: 0;bottom: 0;left: 50%;z-index: -1;}#sk-container-id-1 div.sk-parallel-item {display: flex;flex-direction: column;z-index: 1;position: relative;background-color: white;}#sk-container-id-1 div.sk-parallel-item:first-child::after {align-self: flex-end;width: 50%;}#sk-container-id-1 div.sk-parallel-item:last-child::after {align-self: flex-start;width: 50%;}#sk-container-id-1 div.sk-parallel-item:only-child::after {width: 0;}#sk-container-id-1 div.sk-dashed-wrapped {border: 1px dashed gray;margin: 0 0.4em 0.5em 0.4em;box-sizing: border-box;padding-bottom: 0.4em;background-color: white;}#sk-container-id-1 div.sk-label label {font-family: monospace;font-weight: bold;display: inline-block;line-height: 1.2em;}#sk-container-id-1 div.sk-label-container {text-align: center;}#sk-container-id-1 div.sk-container {/* jupyter's `normalize.less` sets `[hidden] { display: none; }` but bootstrap.min.css set `[hidden] { display: none !important; }` so we also need the `!important` here to be able to override the default hidden behavior on the sphinx rendered scikit-learn.org. See: https://github.com/scikit-learn/scikit-learn/issues/21755 */display: inline-block !important;position: relative;}#sk-container-id-1 div.sk-text-repr-fallback {display: none;}</style><div id=\"sk-container-id-1\" class=\"sk-top-container\"><div class=\"sk-text-repr-fallback\"><pre>XGBRegressor(base_score=None, booster=None, callbacks=None,\n",
              "             colsample_bylevel=None, colsample_bynode=None,\n",
              "             colsample_bytree=0.5, early_stopping_rounds=None,\n",
              "             enable_categorical=False, eval_metric=&#x27;rmse&#x27;, feature_types=None,\n",
              "             gamma=0.0, gpu_id=None, grow_policy=None, importance_type=None,\n",
              "             interaction_constraints=None, learning_rate=0.4, max_bin=None,\n",
              "             max_cat_threshold=None, max_cat_to_onehot=None,\n",
              "             max_delta_step=None, max_depth=3, max_leaves=None,\n",
              "             min_child_weight=None, missing=nan, monotone_constraints=None,\n",
              "             n_estimators=478, n_jobs=None, num_parallel_tree=None,\n",
              "             predictor=None, random_state=333, ...)</pre><b>In a Jupyter environment, please rerun this cell to show the HTML representation or trust the notebook. <br />On GitHub, the HTML representation is unable to render, please try loading this page with nbviewer.org.</b></div><div class=\"sk-container\" hidden><div class=\"sk-item\"><div class=\"sk-estimator sk-toggleable\"><input class=\"sk-toggleable__control sk-hidden--visually\" id=\"sk-estimator-id-1\" type=\"checkbox\" checked><label for=\"sk-estimator-id-1\" class=\"sk-toggleable__label sk-toggleable__label-arrow\">XGBRegressor</label><div class=\"sk-toggleable__content\"><pre>XGBRegressor(base_score=None, booster=None, callbacks=None,\n",
              "             colsample_bylevel=None, colsample_bynode=None,\n",
              "             colsample_bytree=0.5, early_stopping_rounds=None,\n",
              "             enable_categorical=False, eval_metric=&#x27;rmse&#x27;, feature_types=None,\n",
              "             gamma=0.0, gpu_id=None, grow_policy=None, importance_type=None,\n",
              "             interaction_constraints=None, learning_rate=0.4, max_bin=None,\n",
              "             max_cat_threshold=None, max_cat_to_onehot=None,\n",
              "             max_delta_step=None, max_depth=3, max_leaves=None,\n",
              "             min_child_weight=None, missing=nan, monotone_constraints=None,\n",
              "             n_estimators=478, n_jobs=None, num_parallel_tree=None,\n",
              "             predictor=None, random_state=333, ...)</pre></div></div></div></div></div>"
            ]
          },
          "metadata": {},
          "execution_count": 23
        }
      ]
    },
    {
      "cell_type": "code",
      "source": [
        "import xgboost\n",
        "\n",
        "xgboost.plot_importance(xgb)"
      ],
      "metadata": {
        "colab": {
          "base_uri": "https://localhost:8080/",
          "height": 313
        },
        "id": "Od3TiuhuTKLn",
        "outputId": "be941850-cf77-4553-acf1-b7e5135ee4ff"
      },
      "execution_count": null,
      "outputs": [
        {
          "output_type": "execute_result",
          "data": {
            "text/plain": [
              "<AxesSubplot:title={'center':'Feature importance'}, xlabel='F score', ylabel='Features'>"
            ]
          },
          "metadata": {},
          "execution_count": 24
        },
        {
          "output_type": "display_data",
          "data": {
            "text/plain": [
              "<Figure size 432x288 with 1 Axes>"
            ],
            "image/png": "[encoded data removed]"
          },
          "metadata": {
            "needs_background": "light"
          }
        }
      ]
    },
    {
      "cell_type": "code",
      "source": [
        "xgb.score(x_test, y_test)\n",
        "#r2 결정계수"
      ],
      "metadata": {
        "colab": {
          "base_uri": "https://localhost:8080/"
        },
        "id": "uNhpNi4IP34k",
        "outputId": "10d4e504-0d41-4509-bb43-9909144ef907"
      },
      "execution_count": null,
      "outputs": [
        {
          "output_type": "execute_result",
          "data": {
            "text/plain": [
              "0.9971040637785991"
            ]
          },
          "metadata": {},
          "execution_count": 25
        }
      ]
    },
    {
      "cell_type": "code",
      "source": [
        "pred = np.expm1(xgb.predict(test_df))"
      ],
      "metadata": {
        "id": "vRN9-zP9SU1i"
      },
      "execution_count": null,
      "outputs": []
    },
    {
      "cell_type": "markdown",
      "source": [
        "#제출 파일"
      ],
      "metadata": {
        "id": "cpBpmaVHV4JB"
      }
    },
    {
      "cell_type": "code",
      "source": [
        "submission = pd.read_csv('submission.csv', encoding = 'utf-8')"
      ],
      "metadata": {
        "id": "nLgOq285V30d"
      },
      "execution_count": null,
      "outputs": []
    },
    {
      "cell_type": "code",
      "source": [
        "submission['value'] = pred"
      ],
      "metadata": {
        "id": "CRO1OFVnVkQo"
      },
      "execution_count": null,
      "outputs": []
    },
    {
      "cell_type": "code",
      "source": [
        "submission.to_csv('fifa_sub.csv', index = False)"
      ],
      "metadata": {
        "id": "dsPHaGIYVjvj"
      },
      "execution_count": null,
      "outputs": []
    }
  ]
}